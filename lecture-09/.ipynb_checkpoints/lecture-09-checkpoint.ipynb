{
 "cells": [
  {
   "cell_type": "markdown",
   "metadata": {
    "deletable": false
   },
   "source": [
    "# SPARQL: Die RDF Abfragesprache"
   ]
  },
  {
   "cell_type": "markdown",
   "metadata": {
    "deletable": false
   },
   "source": [
    "In dieser Übung schauen wir uns die SPARQL Abfragesprache für RDF in der Praxis an. Wir verwenden dafür etwas RDF mit der Pink Floyd Diskographie und führen einige Abfragen aus. Zum Schluss schreiben Sie dann Ihr eigenes RDF und einige SPARQL Abfragen dazu."
   ]
  },
  {
   "cell_type": "code",
   "execution_count": 2,
   "metadata": {
    "deletable": false
   },
   "outputs": [
    {
     "name": "stdout",
     "output_type": "stream",
     "text": [
      "Requirement already satisfied: rdflib in c:\\programdata\\anaconda3\\lib\\site-packages\n",
      "Requirement already satisfied: pyparsing in c:\\programdata\\anaconda3\\lib\\site-packages (from rdflib)\n",
      "Requirement already satisfied: isodate in c:\\programdata\\anaconda3\\lib\\site-packages (from rdflib)\n",
      "Requirement already satisfied: six in c:\\programdata\\anaconda3\\lib\\site-packages (from isodate->rdflib)\n"
     ]
    },
    {
     "name": "stderr",
     "output_type": "stream",
     "text": [
      "You are using pip version 9.0.1, however version 10.0.1 is available.\n",
      "You should consider upgrading via the 'python -m pip install --upgrade pip' command.\n"
     ]
    }
   ],
   "source": [
    "!pip install rdflib"
   ]
  },
  {
   "cell_type": "code",
   "execution_count": 3,
   "metadata": {
    "deletable": false
   },
   "outputs": [],
   "source": [
    "import pandas as pd\n",
    "from io import BytesIO, StringIO\n",
    "from rdflib import Graph\n",
    "from rdflib.plugins.sparql.results.csvresults import CSVResultSerializer\n",
    "from IPython.display import display\n",
    "\n",
    "rdf = \"\"\"\n",
    "@prefix ex: <http://example.org#> .\n",
    "@prefix rdf: <http://www.w3.org/1999/02/22-rdf-syntax-ns#> .\n",
    "@prefix xsd: <http://www.w3.org/2001/XMLSchema#> .\n",
    "\n",
    "[] a ex:Album ;\n",
    "   ex:title \"The Dark Side of the Moon\"^^xsd:string ;\n",
    "   ex:label \"Harvest, EMI\"@en ;\n",
    "   ex:released [ \n",
    "     ex:day \"16\"^^xsd:int ;\n",
    "     ex:month \"03\"^^xsd:int ;\n",
    "     ex:year \"1973\"^^xsd:int \n",
    "   ] .\n",
    "   \n",
    "[] a ex:Album ;\n",
    "   ex:title \"The Wall\" ;\n",
    "   ex:label \"Harvest, EMI\" ;\n",
    "   ex:released [ \n",
    "     ex:day 30 ;\n",
    "     ex:month \"11\"^^xsd:string ;\n",
    "     ex:year \"1979\"^^xsd:int \n",
    "   ] .\n",
    "\n",
    "[] a ex:Single ;\n",
    "   ex:title \"What God Wants, Part 1\"^^xsd:string ;\n",
    "   ex:author [\n",
    "     ex:firstname \"Roger\" ;\n",
    "     ex:lastname \"Waters\"\n",
    "   ] ;\n",
    "   ex:released [ \n",
    "     ex:year \"1992\"^^xsd:int \n",
    "   ] .\n",
    "\"\"\"\n",
    "\n",
    "g = Graph()\n",
    "\n",
    "r = g.parse(data=rdf, format='turtle')\n",
    "\n",
    "def query(q):\n",
    "    serializer = CSVResultSerializer(g.query(q))\n",
    "    output = BytesIO()\n",
    "    serializer.serialize(output)\n",
    "    display(pd.read_csv(StringIO(output.getvalue().decode())))"
   ]
  },
  {
   "cell_type": "markdown",
   "metadata": {
    "deletable": false
   },
   "source": [
    "Führen Sie nun die folgenden Abfragen aus und beantworten Sie die Fragen."
   ]
  },
  {
   "cell_type": "code",
   "execution_count": 4,
   "metadata": {
    "deletable": false
   },
   "outputs": [
    {
     "data": {
      "text/html": [
       "<div>\n",
       "<style scoped>\n",
       "    .dataframe tbody tr th:only-of-type {\n",
       "        vertical-align: middle;\n",
       "    }\n",
       "\n",
       "    .dataframe tbody tr th {\n",
       "        vertical-align: top;\n",
       "    }\n",
       "\n",
       "    .dataframe thead th {\n",
       "        text-align: right;\n",
       "    }\n",
       "</style>\n",
       "<table border=\"1\" class=\"dataframe\">\n",
       "  <thead>\n",
       "    <tr style=\"text-align: right;\">\n",
       "      <th></th>\n",
       "      <th>title</th>\n",
       "    </tr>\n",
       "  </thead>\n",
       "  <tbody>\n",
       "    <tr>\n",
       "      <th>0</th>\n",
       "      <td>What God Wants, Part 1</td>\n",
       "    </tr>\n",
       "    <tr>\n",
       "      <th>1</th>\n",
       "      <td>The Wall</td>\n",
       "    </tr>\n",
       "    <tr>\n",
       "      <th>2</th>\n",
       "      <td>The Dark Side of the Moon</td>\n",
       "    </tr>\n",
       "  </tbody>\n",
       "</table>\n",
       "</div>"
      ],
      "text/plain": [
       "                       title\n",
       "0     What God Wants, Part 1\n",
       "1                   The Wall\n",
       "2  The Dark Side of the Moon"
      ]
     },
     "metadata": {},
     "output_type": "display_data"
    }
   ],
   "source": [
    "query(\"\"\"\n",
    "SELECT ?title WHERE { \n",
    "  ?work ex:title ?title\n",
    "}\n",
    "\"\"\")\n",
    "# gibt alle Objekte mit dem Prädikt title aus"
   ]
  },
  {
   "cell_type": "code",
   "execution_count": 5,
   "metadata": {
    "deletable": false
   },
   "outputs": [
    {
     "data": {
      "text/html": [
       "<div>\n",
       "<style scoped>\n",
       "    .dataframe tbody tr th:only-of-type {\n",
       "        vertical-align: middle;\n",
       "    }\n",
       "\n",
       "    .dataframe tbody tr th {\n",
       "        vertical-align: top;\n",
       "    }\n",
       "\n",
       "    .dataframe thead th {\n",
       "        text-align: right;\n",
       "    }\n",
       "</style>\n",
       "<table border=\"1\" class=\"dataframe\">\n",
       "  <thead>\n",
       "    <tr style=\"text-align: right;\">\n",
       "      <th></th>\n",
       "      <th>work</th>\n",
       "      <th>title</th>\n",
       "    </tr>\n",
       "  </thead>\n",
       "  <tbody>\n",
       "    <tr>\n",
       "      <th>0</th>\n",
       "      <td>ub2bL23C1</td>\n",
       "      <td>What God Wants, Part 1</td>\n",
       "    </tr>\n",
       "    <tr>\n",
       "      <th>1</th>\n",
       "      <td>ub2bL14C1</td>\n",
       "      <td>The Wall</td>\n",
       "    </tr>\n",
       "    <tr>\n",
       "      <th>2</th>\n",
       "      <td>ub2bL5C1</td>\n",
       "      <td>The Dark Side of the Moon</td>\n",
       "    </tr>\n",
       "  </tbody>\n",
       "</table>\n",
       "</div>"
      ],
      "text/plain": [
       "        work                      title\n",
       "0  ub2bL23C1     What God Wants, Part 1\n",
       "1  ub2bL14C1                   The Wall\n",
       "2   ub2bL5C1  The Dark Side of the Moon"
      ]
     },
     "metadata": {},
     "output_type": "display_data"
    }
   ],
   "source": [
    "query(\"\"\"\n",
    "SELECT ?work ?title WHERE { \n",
    "  ?work ex:title ?title\n",
    "}\n",
    "\"\"\")\n",
    "# gibt alle Subjekte und Objekte aus bei denen das Prädikat title ist"
   ]
  },
  {
   "cell_type": "code",
   "execution_count": 6,
   "metadata": {
    "deletable": false
   },
   "outputs": [
    {
     "data": {
      "text/html": [
       "<div>\n",
       "<style scoped>\n",
       "    .dataframe tbody tr th:only-of-type {\n",
       "        vertical-align: middle;\n",
       "    }\n",
       "\n",
       "    .dataframe tbody tr th {\n",
       "        vertical-align: top;\n",
       "    }\n",
       "\n",
       "    .dataframe thead th {\n",
       "        text-align: right;\n",
       "    }\n",
       "</style>\n",
       "<table border=\"1\" class=\"dataframe\">\n",
       "  <thead>\n",
       "    <tr style=\"text-align: right;\">\n",
       "      <th></th>\n",
       "      <th>title</th>\n",
       "    </tr>\n",
       "  </thead>\n",
       "  <tbody>\n",
       "    <tr>\n",
       "      <th>0</th>\n",
       "      <td>What God Wants, Part 1</td>\n",
       "    </tr>\n",
       "    <tr>\n",
       "      <th>1</th>\n",
       "      <td>The Wall</td>\n",
       "    </tr>\n",
       "    <tr>\n",
       "      <th>2</th>\n",
       "      <td>The Dark Side of the Moon</td>\n",
       "    </tr>\n",
       "  </tbody>\n",
       "</table>\n",
       "</div>"
      ],
      "text/plain": [
       "                       title\n",
       "0     What God Wants, Part 1\n",
       "1                   The Wall\n",
       "2  The Dark Side of the Moon"
      ]
     },
     "metadata": {},
     "output_type": "display_data"
    }
   ],
   "source": [
    "query(\"\"\"\n",
    "SELECT ?title WHERE { \n",
    "  [] ex:title ?title\n",
    "}\n",
    "\"\"\")\n",
    "\n",
    "# Was ist der Unterschied zum vorherigem Beispiel? Antwort: hier wird das Objekt angezeigt wenn das Prädikat title ist und\n",
    "# das Subject ein Blank node"
   ]
  },
  {
   "cell_type": "code",
   "execution_count": 7,
   "metadata": {
    "deletable": false
   },
   "outputs": [
    {
     "data": {
      "text/html": [
       "<div>\n",
       "<style scoped>\n",
       "    .dataframe tbody tr th:only-of-type {\n",
       "        vertical-align: middle;\n",
       "    }\n",
       "\n",
       "    .dataframe tbody tr th {\n",
       "        vertical-align: top;\n",
       "    }\n",
       "\n",
       "    .dataframe thead th {\n",
       "        text-align: right;\n",
       "    }\n",
       "</style>\n",
       "<table border=\"1\" class=\"dataframe\">\n",
       "  <thead>\n",
       "    <tr style=\"text-align: right;\">\n",
       "      <th></th>\n",
       "      <th>title</th>\n",
       "    </tr>\n",
       "  </thead>\n",
       "  <tbody>\n",
       "    <tr>\n",
       "      <th>0</th>\n",
       "      <td>The Dark Side of the Moon</td>\n",
       "    </tr>\n",
       "    <tr>\n",
       "      <th>1</th>\n",
       "      <td>The Wall</td>\n",
       "    </tr>\n",
       "  </tbody>\n",
       "</table>\n",
       "</div>"
      ],
      "text/plain": [
       "                       title\n",
       "0  The Dark Side of the Moon\n",
       "1                   The Wall"
      ]
     },
     "metadata": {},
     "output_type": "display_data"
    }
   ],
   "source": [
    "query(\"\"\"\n",
    "SELECT ?title WHERE { \n",
    "  [] rdf:type ex:Album ; \n",
    "     ex:title ?title\n",
    "}\n",
    "\"\"\")\n",
    "\n",
    "# Warum nur zwei Resultate? Antwort: weil die Where-Bedingung \"  [] rdf:type ex:Album \" nur bei zwei einträgen stimmt und beide\n",
    "# Bedingungen erfüllt werden müssen"
   ]
  },
  {
   "cell_type": "code",
   "execution_count": 8,
   "metadata": {
    "deletable": false
   },
   "outputs": [
    {
     "data": {
      "text/html": [
       "<div>\n",
       "<style scoped>\n",
       "    .dataframe tbody tr th:only-of-type {\n",
       "        vertical-align: middle;\n",
       "    }\n",
       "\n",
       "    .dataframe tbody tr th {\n",
       "        vertical-align: top;\n",
       "    }\n",
       "\n",
       "    .dataframe thead th {\n",
       "        text-align: right;\n",
       "    }\n",
       "</style>\n",
       "<table border=\"1\" class=\"dataframe\">\n",
       "  <thead>\n",
       "    <tr style=\"text-align: right;\">\n",
       "      <th></th>\n",
       "      <th>s</th>\n",
       "      <th>p</th>\n",
       "      <th>o</th>\n",
       "    </tr>\n",
       "  </thead>\n",
       "  <tbody>\n",
       "    <tr>\n",
       "      <th>0</th>\n",
       "      <td>ub2bL8C16</td>\n",
       "      <td>http://example.org#year</td>\n",
       "      <td>1973</td>\n",
       "    </tr>\n",
       "    <tr>\n",
       "      <th>1</th>\n",
       "      <td>ub2bL25C14</td>\n",
       "      <td>http://example.org#firstname</td>\n",
       "      <td>Roger</td>\n",
       "    </tr>\n",
       "    <tr>\n",
       "      <th>2</th>\n",
       "      <td>ub2bL5C1</td>\n",
       "      <td>http://example.org#released</td>\n",
       "      <td>ub2bL8C16</td>\n",
       "    </tr>\n",
       "    <tr>\n",
       "      <th>3</th>\n",
       "      <td>ub2bL14C1</td>\n",
       "      <td>http://example.org#title</td>\n",
       "      <td>The Wall</td>\n",
       "    </tr>\n",
       "    <tr>\n",
       "      <th>4</th>\n",
       "      <td>ub2bL5C1</td>\n",
       "      <td>http://www.w3.org/1999/02/22-rdf-syntax-ns#type</td>\n",
       "      <td>http://example.org#Album</td>\n",
       "    </tr>\n",
       "    <tr>\n",
       "      <th>5</th>\n",
       "      <td>ub2bL23C1</td>\n",
       "      <td>http://example.org#author</td>\n",
       "      <td>ub2bL25C14</td>\n",
       "    </tr>\n",
       "    <tr>\n",
       "      <th>6</th>\n",
       "      <td>ub2bL8C16</td>\n",
       "      <td>http://example.org#day</td>\n",
       "      <td>16</td>\n",
       "    </tr>\n",
       "    <tr>\n",
       "      <th>7</th>\n",
       "      <td>ub2bL23C1</td>\n",
       "      <td>http://www.w3.org/1999/02/22-rdf-syntax-ns#type</td>\n",
       "      <td>http://example.org#Single</td>\n",
       "    </tr>\n",
       "    <tr>\n",
       "      <th>8</th>\n",
       "      <td>ub2bL25C14</td>\n",
       "      <td>http://example.org#lastname</td>\n",
       "      <td>Waters</td>\n",
       "    </tr>\n",
       "    <tr>\n",
       "      <th>9</th>\n",
       "      <td>ub2bL14C1</td>\n",
       "      <td>http://example.org#label</td>\n",
       "      <td>Harvest, EMI</td>\n",
       "    </tr>\n",
       "    <tr>\n",
       "      <th>10</th>\n",
       "      <td>ub2bL17C16</td>\n",
       "      <td>http://example.org#year</td>\n",
       "      <td>1979</td>\n",
       "    </tr>\n",
       "    <tr>\n",
       "      <th>11</th>\n",
       "      <td>ub2bL14C1</td>\n",
       "      <td>http://example.org#released</td>\n",
       "      <td>ub2bL17C16</td>\n",
       "    </tr>\n",
       "    <tr>\n",
       "      <th>12</th>\n",
       "      <td>ub2bL5C1</td>\n",
       "      <td>http://example.org#label</td>\n",
       "      <td>Harvest, EMI</td>\n",
       "    </tr>\n",
       "    <tr>\n",
       "      <th>13</th>\n",
       "      <td>ub2bL17C16</td>\n",
       "      <td>http://example.org#month</td>\n",
       "      <td>11</td>\n",
       "    </tr>\n",
       "    <tr>\n",
       "      <th>14</th>\n",
       "      <td>ub2bL23C1</td>\n",
       "      <td>http://example.org#title</td>\n",
       "      <td>What God Wants, Part 1</td>\n",
       "    </tr>\n",
       "    <tr>\n",
       "      <th>15</th>\n",
       "      <td>ub2bL8C16</td>\n",
       "      <td>http://example.org#month</td>\n",
       "      <td>3</td>\n",
       "    </tr>\n",
       "    <tr>\n",
       "      <th>16</th>\n",
       "      <td>ub2bL29C16</td>\n",
       "      <td>http://example.org#year</td>\n",
       "      <td>1992</td>\n",
       "    </tr>\n",
       "    <tr>\n",
       "      <th>17</th>\n",
       "      <td>ub2bL23C1</td>\n",
       "      <td>http://example.org#released</td>\n",
       "      <td>ub2bL29C16</td>\n",
       "    </tr>\n",
       "    <tr>\n",
       "      <th>18</th>\n",
       "      <td>ub2bL5C1</td>\n",
       "      <td>http://example.org#title</td>\n",
       "      <td>The Dark Side of the Moon</td>\n",
       "    </tr>\n",
       "    <tr>\n",
       "      <th>19</th>\n",
       "      <td>ub2bL17C16</td>\n",
       "      <td>http://example.org#day</td>\n",
       "      <td>30</td>\n",
       "    </tr>\n",
       "    <tr>\n",
       "      <th>20</th>\n",
       "      <td>ub2bL14C1</td>\n",
       "      <td>http://www.w3.org/1999/02/22-rdf-syntax-ns#type</td>\n",
       "      <td>http://example.org#Album</td>\n",
       "    </tr>\n",
       "  </tbody>\n",
       "</table>\n",
       "</div>"
      ],
      "text/plain": [
       "             s                                                p  \\\n",
       "0    ub2bL8C16                          http://example.org#year   \n",
       "1   ub2bL25C14                     http://example.org#firstname   \n",
       "2     ub2bL5C1                      http://example.org#released   \n",
       "3    ub2bL14C1                         http://example.org#title   \n",
       "4     ub2bL5C1  http://www.w3.org/1999/02/22-rdf-syntax-ns#type   \n",
       "5    ub2bL23C1                        http://example.org#author   \n",
       "6    ub2bL8C16                           http://example.org#day   \n",
       "7    ub2bL23C1  http://www.w3.org/1999/02/22-rdf-syntax-ns#type   \n",
       "8   ub2bL25C14                      http://example.org#lastname   \n",
       "9    ub2bL14C1                         http://example.org#label   \n",
       "10  ub2bL17C16                          http://example.org#year   \n",
       "11   ub2bL14C1                      http://example.org#released   \n",
       "12    ub2bL5C1                         http://example.org#label   \n",
       "13  ub2bL17C16                         http://example.org#month   \n",
       "14   ub2bL23C1                         http://example.org#title   \n",
       "15   ub2bL8C16                         http://example.org#month   \n",
       "16  ub2bL29C16                          http://example.org#year   \n",
       "17   ub2bL23C1                      http://example.org#released   \n",
       "18    ub2bL5C1                         http://example.org#title   \n",
       "19  ub2bL17C16                           http://example.org#day   \n",
       "20   ub2bL14C1  http://www.w3.org/1999/02/22-rdf-syntax-ns#type   \n",
       "\n",
       "                            o  \n",
       "0                        1973  \n",
       "1                       Roger  \n",
       "2                   ub2bL8C16  \n",
       "3                    The Wall  \n",
       "4    http://example.org#Album  \n",
       "5                  ub2bL25C14  \n",
       "6                          16  \n",
       "7   http://example.org#Single  \n",
       "8                      Waters  \n",
       "9                Harvest, EMI  \n",
       "10                       1979  \n",
       "11                 ub2bL17C16  \n",
       "12               Harvest, EMI  \n",
       "13                         11  \n",
       "14     What God Wants, Part 1  \n",
       "15                          3  \n",
       "16                       1992  \n",
       "17                 ub2bL29C16  \n",
       "18  The Dark Side of the Moon  \n",
       "19                         30  \n",
       "20   http://example.org#Album  "
      ]
     },
     "metadata": {},
     "output_type": "display_data"
    }
   ],
   "source": [
    "query(\"\"\"\n",
    "SELECT ?s ?p ?o WHERE { \n",
    "  ?s ?p ?o\n",
    "}\n",
    "\"\"\")\n",
    "\n",
    "# Was erhält man hier? Antwort: Alle angegeben triple"
   ]
  },
  {
   "cell_type": "code",
   "execution_count": 9,
   "metadata": {
    "deletable": false
   },
   "outputs": [
    {
     "data": {
      "text/html": [
       "<div>\n",
       "<style scoped>\n",
       "    .dataframe tbody tr th:only-of-type {\n",
       "        vertical-align: middle;\n",
       "    }\n",
       "\n",
       "    .dataframe tbody tr th {\n",
       "        vertical-align: top;\n",
       "    }\n",
       "\n",
       "    .dataframe thead th {\n",
       "        text-align: right;\n",
       "    }\n",
       "</style>\n",
       "<table border=\"1\" class=\"dataframe\">\n",
       "  <thead>\n",
       "    <tr style=\"text-align: right;\">\n",
       "      <th></th>\n",
       "      <th>title</th>\n",
       "      <th>year</th>\n",
       "    </tr>\n",
       "  </thead>\n",
       "  <tbody>\n",
       "    <tr>\n",
       "      <th>0</th>\n",
       "      <td>The Wall</td>\n",
       "      <td>1979</td>\n",
       "    </tr>\n",
       "  </tbody>\n",
       "</table>\n",
       "</div>"
      ],
      "text/plain": [
       "      title  year\n",
       "0  The Wall  1979"
      ]
     },
     "metadata": {},
     "output_type": "display_data"
    }
   ],
   "source": [
    "query(\"\"\"\n",
    "SELECT ?title ?year WHERE { \n",
    "  [] rdf:type ex:Album ; \n",
    "     ex:title ?title ;\n",
    "     ex:released [ ex:year ?year ]\n",
    "  FILTER (?year > 1973)\n",
    "}\n",
    "\"\"\")\n",
    "# sehr präzise Abfrage nach allen Alben die nach 1973 veröffentlicht wurden und\n",
    "# bei denen die oben angegeben tripel vorhanden sind"
   ]
  },
  {
   "cell_type": "code",
   "execution_count": 10,
   "metadata": {
    "deletable": false
   },
   "outputs": [
    {
     "data": {
      "text/html": [
       "<div>\n",
       "<style scoped>\n",
       "    .dataframe tbody tr th:only-of-type {\n",
       "        vertical-align: middle;\n",
       "    }\n",
       "\n",
       "    .dataframe tbody tr th {\n",
       "        vertical-align: top;\n",
       "    }\n",
       "\n",
       "    .dataframe thead th {\n",
       "        text-align: right;\n",
       "    }\n",
       "</style>\n",
       "<table border=\"1\" class=\"dataframe\">\n",
       "  <thead>\n",
       "    <tr style=\"text-align: right;\">\n",
       "      <th></th>\n",
       "      <th>title</th>\n",
       "      <th>year</th>\n",
       "    </tr>\n",
       "  </thead>\n",
       "  <tbody>\n",
       "    <tr>\n",
       "      <th>0</th>\n",
       "      <td>The Wall</td>\n",
       "      <td>1979</td>\n",
       "    </tr>\n",
       "    <tr>\n",
       "      <th>1</th>\n",
       "      <td>What God Wants, Part 1</td>\n",
       "      <td>1992</td>\n",
       "    </tr>\n",
       "  </tbody>\n",
       "</table>\n",
       "</div>"
      ],
      "text/plain": [
       "                    title  year\n",
       "0                The Wall  1979\n",
       "1  What God Wants, Part 1  1992"
      ]
     },
     "metadata": {},
     "output_type": "display_data"
    }
   ],
   "source": [
    "query(\"\"\"\n",
    "SELECT ?title ?year WHERE { \n",
    "  {\n",
    "    [] rdf:type ex:Album ; \n",
    "       ex:title ?title ;\n",
    "       ex:released [ ex:year ?year ]\n",
    "    FILTER (?year > 1973)\n",
    "  }\n",
    "  UNION\n",
    "  {\n",
    "    [] rdf:type ex:Single ; \n",
    "       ex:title ?title ;\n",
    "       ex:released [ ex:year ?year ]\n",
    "    FILTER (?year <= 2000 )\n",
    "  }\n",
    "}\n",
    "\"\"\")\n",
    "# ähnlich wie eben, jetzt aber mit einer zusätzlichen Where-Bedingung"
   ]
  },
  {
   "cell_type": "code",
   "execution_count": 11,
   "metadata": {
    "deletable": false
   },
   "outputs": [
    {
     "data": {
      "text/html": [
       "<div>\n",
       "<style scoped>\n",
       "    .dataframe tbody tr th:only-of-type {\n",
       "        vertical-align: middle;\n",
       "    }\n",
       "\n",
       "    .dataframe tbody tr th {\n",
       "        vertical-align: top;\n",
       "    }\n",
       "\n",
       "    .dataframe thead th {\n",
       "        text-align: right;\n",
       "    }\n",
       "</style>\n",
       "<table border=\"1\" class=\"dataframe\">\n",
       "  <thead>\n",
       "    <tr style=\"text-align: right;\">\n",
       "      <th></th>\n",
       "      <th>title</th>\n",
       "      <th>label</th>\n",
       "    </tr>\n",
       "  </thead>\n",
       "  <tbody>\n",
       "    <tr>\n",
       "      <th>0</th>\n",
       "      <td>What God Wants, Part 1</td>\n",
       "      <td>NaN</td>\n",
       "    </tr>\n",
       "    <tr>\n",
       "      <th>1</th>\n",
       "      <td>The Wall</td>\n",
       "      <td>Harvest, EMI</td>\n",
       "    </tr>\n",
       "    <tr>\n",
       "      <th>2</th>\n",
       "      <td>The Dark Side of the Moon</td>\n",
       "      <td>Harvest, EMI</td>\n",
       "    </tr>\n",
       "  </tbody>\n",
       "</table>\n",
       "</div>"
      ],
      "text/plain": [
       "                       title         label\n",
       "0     What God Wants, Part 1           NaN\n",
       "1                   The Wall  Harvest, EMI\n",
       "2  The Dark Side of the Moon  Harvest, EMI"
      ]
     },
     "metadata": {},
     "output_type": "display_data"
    }
   ],
   "source": [
    "query(\"\"\"\n",
    "SELECT ?title ?label WHERE { \n",
    "    ?work ex:title ?title .\n",
    "    OPTIONAL { ?work ex:label ?label }\n",
    "}\n",
    "\"\"\")\n",
    "\n",
    "# Warum ist der label von \"What God Wants, Part 1\" NaN? \n",
    "# Antwort: like null... Not a Number... er findet kein Label und sagt da ist kein Eintrag"
   ]
  },
  {
   "cell_type": "code",
   "execution_count": 12,
   "metadata": {
    "deletable": false
   },
   "outputs": [
    {
     "data": {
      "text/html": [
       "<div>\n",
       "<style scoped>\n",
       "    .dataframe tbody tr th:only-of-type {\n",
       "        vertical-align: middle;\n",
       "    }\n",
       "\n",
       "    .dataframe tbody tr th {\n",
       "        vertical-align: top;\n",
       "    }\n",
       "\n",
       "    .dataframe thead th {\n",
       "        text-align: right;\n",
       "    }\n",
       "</style>\n",
       "<table border=\"1\" class=\"dataframe\">\n",
       "  <thead>\n",
       "    <tr style=\"text-align: right;\">\n",
       "      <th></th>\n",
       "      <th>title</th>\n",
       "    </tr>\n",
       "  </thead>\n",
       "  <tbody>\n",
       "    <tr>\n",
       "      <th>0</th>\n",
       "      <td>The Dark Side of the Moon</td>\n",
       "    </tr>\n",
       "  </tbody>\n",
       "</table>\n",
       "</div>"
      ],
      "text/plain": [
       "                       title\n",
       "0  The Dark Side of the Moon"
      ]
     },
     "metadata": {},
     "output_type": "display_data"
    }
   ],
   "source": [
    "query(\"\"\"\n",
    "SELECT ?title WHERE { \n",
    "  [] rdf:type ex:Album ;\n",
    "     ex:title ?title ;\n",
    "     ex:label ?label\n",
    "  FILTER (LANG(?label) = \"en\")\n",
    "}\n",
    "\"\"\")\n",
    "# gibt alle triple bei denen der Aufbau wie oben \n",
    "# gegeben ist und die Sprache Englisch ist"
   ]
  },
  {
   "cell_type": "code",
   "execution_count": 13,
   "metadata": {
    "deletable": false
   },
   "outputs": [
    {
     "data": {
      "text/html": [
       "<div>\n",
       "<style scoped>\n",
       "    .dataframe tbody tr th:only-of-type {\n",
       "        vertical-align: middle;\n",
       "    }\n",
       "\n",
       "    .dataframe tbody tr th {\n",
       "        vertical-align: top;\n",
       "    }\n",
       "\n",
       "    .dataframe thead th {\n",
       "        text-align: right;\n",
       "    }\n",
       "</style>\n",
       "<table border=\"1\" class=\"dataframe\">\n",
       "  <thead>\n",
       "    <tr style=\"text-align: right;\">\n",
       "      <th></th>\n",
       "      <th>title</th>\n",
       "    </tr>\n",
       "  </thead>\n",
       "  <tbody>\n",
       "    <tr>\n",
       "      <th>0</th>\n",
       "      <td>The Dark Side of the Moon</td>\n",
       "    </tr>\n",
       "    <tr>\n",
       "      <th>1</th>\n",
       "      <td>The Wall</td>\n",
       "    </tr>\n",
       "  </tbody>\n",
       "</table>\n",
       "</div>"
      ],
      "text/plain": [
       "                       title\n",
       "0  The Dark Side of the Moon\n",
       "1                   The Wall"
      ]
     },
     "metadata": {},
     "output_type": "display_data"
    }
   ],
   "source": [
    "query(\"\"\"\n",
    "SELECT ?title WHERE { \n",
    "  [] rdf:type ex:Album ;\n",
    "     ex:title ?title ;\n",
    "     ex:released [ ex:day ?day ]\n",
    "  FILTER (?day > 15)\n",
    "}\n",
    "\"\"\")"
   ]
  },
  {
   "cell_type": "code",
   "execution_count": null,
   "metadata": {
    "deletable": false
   },
   "outputs": [],
   "source": [
    "query(\"\"\"\n",
    "SELECT ?title WHERE { \n",
    "  [] rdf:type ex:Album ;\n",
    "     ex:title ?title ;\n",
    "     ex:released [ ex:month ?month ]\n",
    "  FILTER (DATATYPE(?month) = xsd:string)\n",
    "}\n",
    "\"\"\")\n",
    "\n",
    "# Warum erhält man hier nur \"The Wall\" als Resultat? \n",
    "# Antwort: Wegen dem Filter String... der andere ist ein int"
   ]
  },
  {
   "cell_type": "markdown",
   "metadata": {
    "deletable": false
   },
   "source": [
    "Schreiben Sie nun ihr eigenes RDF und werten Sie einige SPARQL Abfragen aus."
   ]
  },
  {
   "cell_type": "code",
   "execution_count": null,
   "metadata": {
    "deletable": false
   },
   "outputs": [],
   "source": [
    "rdf = \"\"\"\n",
    "... Mein RDF ...\n",
    "\"\"\"\n",
    "\n",
    "g = Graph()\n",
    "\n",
    "r = g.parse(data=rdf, format='turtle')"
   ]
  },
  {
   "cell_type": "code",
   "execution_count": null,
   "metadata": {
    "deletable": false
   },
   "outputs": [],
   "source": [
    "query(\"\"\"\n",
    "... Meine SPARQL Abfrage ...\n",
    "\"\"\")"
   ]
  }
 ],
 "metadata": {
  "kernelspec": {
   "display_name": "Python 3",
   "language": "python",
   "name": "python3"
  },
  "language_info": {
   "codemirror_mode": {
    "name": "ipython",
    "version": 3
   },
   "file_extension": ".py",
   "mimetype": "text/x-python",
   "name": "python",
   "nbconvert_exporter": "python",
   "pygments_lexer": "ipython3",
   "version": "3.6.4"
  }
 },
 "nbformat": 4,
 "nbformat_minor": 2
}
