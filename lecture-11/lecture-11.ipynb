{
 "cells": [
  {
   "cell_type": "markdown",
   "metadata": {
    "deletable": false
   },
   "source": [
    "# Einführung in RDF Schema"
   ]
  },
  {
   "cell_type": "markdown",
   "metadata": {
    "deletable": false
   },
   "source": [
    "Tripelmengen sind unübersichtlich. Es ist generell schwierig einen Einblick zu erhalten worüber eine Tripelmenge Aussagen trifft. Um Tripelmengen und die darin enthaltenen Ressourcen zu organisieren wurde RDF Schema (RDFS) entwickelt. Zentral ist die Gruppierung von Ressourcen als RDFS Klassen. Hat man Klassen definiert, ist es möglich Ressourcen zu typisieren also festlegen, dass eine Ressource eine Instanz einer Klasse ist. Zudem ermöglich RDFS die Erstellung von Klassenhierarchien wie auch Prädikathierarchien. In dieser Übung werden wir diese Konzepte anhand praktischer Beispiele genauer ansehen. Wie üblich, gehen Sie die Codeblöcke nacheinander durch und beantworten Sie die Fragen."
   ]
  },
  {
   "cell_type": "code",
   "execution_count": 1,
   "metadata": {
    "deletable": false
   },
   "outputs": [],
   "source": [
    "import pandas as pd\n",
    "from io import BytesIO\n",
    "from io import StringIO\n",
    "from rdflib import Graph, URIRef\n",
    "from rdflib.namespace import RDF\n",
    "from rdflib.plugins.sparql.results.csvresults import CSVResultSerializer\n",
    "from rdflib.plugins.sparql import prepareQuery\n",
    "from IPython.display import display\n",
    "\n",
    "prefixes = \"\"\"\n",
    "@prefix : <http://example.org#> .\n",
    "@prefix rdf: <http://www.w3.org/1999/02/22-rdf-syntax-ns#> .\n",
    "@prefix rdfs: <http://www.w3.org/2000/01/rdf-schema#> .\n",
    "\"\"\"\n",
    "\n",
    "g = Graph()\n",
    "\n",
    "def evaluate(rs):\n",
    "    serializer = CSVResultSerializer(rs)\n",
    "    output = BytesIO()\n",
    "    serializer.serialize(output)\n",
    "    display(pd.read_csv(StringIO(output.getvalue().decode())))\n",
    "    \n",
    "def query(rdf, sparql):\n",
    "    r = g.parse(data='{}{}'.format(prefixes, rdf), format='turtle')\n",
    "    rs = g.query(sparql)\n",
    "    evaluate(rs)\n",
    "    \n",
    "def reason(rdf, sparql):\n",
    "    superclass = URIRef('http://example.org#Work')\n",
    "    r = g.parse(data='{}{}'.format(prefixes, rdf), format='turtle')\n",
    "    rs1 = g.query(prepareQuery('SELECT ?subclass WHERE { ?subclass rdfs:subClassOf ?superclass }'), \n",
    "                  initBindings={'superclass': superclass})\n",
    "    for qs1 in rs1:\n",
    "        rs2 = g.query(prepareQuery('SELECT ?instance WHERE { ?instance rdf:type ?class }'), \n",
    "                      initBindings={'class': qs1['subclass']})\n",
    "        for qs2 in rs2:\n",
    "            g.add((qs2['instance'], RDF.type, superclass))\n",
    "    evaluate(g.query(sparql))"
   ]
  },
  {
   "cell_type": "code",
   "execution_count": 3,
   "metadata": {
    "deletable": false
   },
   "outputs": [],
   "source": [
    "rdf = \"\"\"\n",
    ":r1 rdf:type :Album .\n",
    ":r2 rdf:type :Album .\n",
    ":r3 rdf:type :Single .\n",
    "\"\"\"\n",
    "\n",
    "# In wieviele Gruppen kann man die Ressourcen :r1, :r2, :r3 intuitiv organisieren? Antwort: 2\n",
    "# Welche Klassen lassen sich hier rauslesen? Antwort: Klasse r1+r2 sind alle triple bei denen rdf:type Album und \n",
    "# r3 sind alle triple mit rdf:triple Single"
   ]
  },
  {
   "cell_type": "markdown",
   "metadata": {
    "deletable": false
   },
   "source": [
    "Sie haben nun Klassen identifiziert, diese sind auch mittles URI benannt. \n",
    "\n",
    "Erstellen Sie nun als nächstes ein Dokument welches aussagt, dass die identifizierten Klassen in der Tat RDFS Klassen sind.\n",
    "\n",
    "Führen Sie dann den Codeblock aus damit die SPARQL Abfrage ausgeführt wird."
   ]
  },
  {
   "cell_type": "code",
   "execution_count": 14,
   "metadata": {
    "deletable": false
   },
   "outputs": [
    {
     "data": {
      "text/html": [
       "<div>\n",
       "<style scoped>\n",
       "    .dataframe tbody tr th:only-of-type {\n",
       "        vertical-align: middle;\n",
       "    }\n",
       "\n",
       "    .dataframe tbody tr th {\n",
       "        vertical-align: top;\n",
       "    }\n",
       "\n",
       "    .dataframe thead th {\n",
       "        text-align: right;\n",
       "    }\n",
       "</style>\n",
       "<table border=\"1\" class=\"dataframe\">\n",
       "  <thead>\n",
       "    <tr style=\"text-align: right;\">\n",
       "      <th></th>\n",
       "      <th>class</th>\n",
       "    </tr>\n",
       "  </thead>\n",
       "  <tbody>\n",
       "    <tr>\n",
       "      <th>0</th>\n",
       "      <td>http://example.org#Single</td>\n",
       "    </tr>\n",
       "    <tr>\n",
       "      <th>1</th>\n",
       "      <td>http://example.org#Album</td>\n",
       "    </tr>\n",
       "  </tbody>\n",
       "</table>\n",
       "</div>"
      ],
      "text/plain": [
       "                       class\n",
       "0  http://example.org#Single\n",
       "1   http://example.org#Album"
      ]
     },
     "metadata": {},
     "output_type": "display_data"
    },
    {
     "data": {
      "text/html": [
       "<div>\n",
       "<style scoped>\n",
       "    .dataframe tbody tr th:only-of-type {\n",
       "        vertical-align: middle;\n",
       "    }\n",
       "\n",
       "    .dataframe tbody tr th {\n",
       "        vertical-align: top;\n",
       "    }\n",
       "\n",
       "    .dataframe thead th {\n",
       "        text-align: right;\n",
       "    }\n",
       "</style>\n",
       "<table border=\"1\" class=\"dataframe\">\n",
       "  <thead>\n",
       "    <tr style=\"text-align: right;\">\n",
       "      <th></th>\n",
       "      <th>class</th>\n",
       "    </tr>\n",
       "  </thead>\n",
       "  <tbody>\n",
       "    <tr>\n",
       "      <th>0</th>\n",
       "      <td>http://example.org#erstes</td>\n",
       "    </tr>\n",
       "    <tr>\n",
       "      <th>1</th>\n",
       "      <td>ub2bL9C1</td>\n",
       "    </tr>\n",
       "    <tr>\n",
       "      <th>2</th>\n",
       "      <td>ub2bL18C1</td>\n",
       "    </tr>\n",
       "    <tr>\n",
       "      <th>3</th>\n",
       "      <td>http://example.org#zweites</td>\n",
       "    </tr>\n",
       "  </tbody>\n",
       "</table>\n",
       "</div>"
      ],
      "text/plain": [
       "                        class\n",
       "0   http://example.org#erstes\n",
       "1                    ub2bL9C1\n",
       "2                   ub2bL18C1\n",
       "3  http://example.org#zweites"
      ]
     },
     "metadata": {},
     "output_type": "display_data"
    }
   ],
   "source": [
    "rdf = \"\"\"\n",
    "@prefix ex: <http://example.org#> .\n",
    "@prefix rdf: <http://www.w3.org/1999/02/22-rdf-syntax-ns#> .\n",
    "@prefix xsd: <http://www.w3.org/2001/XMLSchema#> .\n",
    "\n",
    "ex:Album a rdfs:Class.\n",
    "ex:Single a rdfs:Class.\n",
    "\n",
    "ex:erstes a ex:Album ;\n",
    "   ex:title \"The Dark Side of the Moon\"^^xsd:string ;\n",
    "   ex:label \"Harvest, EMI\"@en ;\n",
    "   ex:released [ \n",
    "     ex:day \"16\"^^xsd:int ;\n",
    "     ex:month \"03\"^^xsd:int ;\n",
    "     ex:year \"1973\"^^xsd:int \n",
    "   ] .\n",
    "   \n",
    "ex:zweites a ex:Album ;\n",
    "   ex:title \"The Wall\" ;\n",
    "   ex:label \"Harvest, EMI\" ;\n",
    "   ex:released [ \n",
    "     ex:day 30 ;\n",
    "     ex:month \"11\"^^xsd:string ;\n",
    "     ex:year \"1979\"^^xsd:int \n",
    "   ] .\n",
    "\n",
    "ex:dritte a ex:Single ;\n",
    "   ex:title \"What God Wants, Part 1\"^^xsd:string ;\n",
    "   ex:author [\n",
    "     ex:firstname \"Roger\" ;\n",
    "     ex:lastname \"Waters\"\n",
    "   ] ;\n",
    "   ex:released [ \n",
    "     ex:year \"1992\"^^xsd:int \n",
    "   ] .\n",
    "\n",
    "\"\"\"\n",
    "\n",
    "query(rdf, \"SELECT ?class WHERE { ?class rdf:type rdfs:Class }\")\n",
    "query(rdf, \"SELECT ?class WHERE { ?class rdf:type ex:Album }\")\n",
    "\n",
    "# Entspricht die Antwort der SPARQL Abfrage Ihren Erwartungen? Antwort: JA"
   ]
  },
  {
   "cell_type": "markdown",
   "metadata": {
    "deletable": false
   },
   "source": [
    "Verwenden Sie nun Ihre definierten Klassen und typisieren Sie die folgenden Ressourcen `:r1`, `:r2`, und `:r3`.\n",
    "\n",
    "Die drei Ressourcen sollen jeweils Instanzen einer der Klassen sein."
   ]
  },
  {
   "cell_type": "code",
   "execution_count": 15,
   "metadata": {
    "deletable": false
   },
   "outputs": [
    {
     "data": {
      "text/html": [
       "<div>\n",
       "<style scoped>\n",
       "    .dataframe tbody tr th:only-of-type {\n",
       "        vertical-align: middle;\n",
       "    }\n",
       "\n",
       "    .dataframe tbody tr th {\n",
       "        vertical-align: top;\n",
       "    }\n",
       "\n",
       "    .dataframe thead th {\n",
       "        text-align: right;\n",
       "    }\n",
       "</style>\n",
       "<table border=\"1\" class=\"dataframe\">\n",
       "  <thead>\n",
       "    <tr style=\"text-align: right;\">\n",
       "      <th></th>\n",
       "      <th>resource</th>\n",
       "      <th>class</th>\n",
       "      <th>title</th>\n",
       "    </tr>\n",
       "  </thead>\n",
       "  <tbody>\n",
       "    <tr>\n",
       "      <th>0</th>\n",
       "      <td>http://example.org#dritte</td>\n",
       "      <td>http://example.org#Single</td>\n",
       "      <td>What God Wants, Part 1</td>\n",
       "    </tr>\n",
       "    <tr>\n",
       "      <th>1</th>\n",
       "      <td>ub2bL18C1</td>\n",
       "      <td>http://example.org#Album</td>\n",
       "      <td>The Wall</td>\n",
       "    </tr>\n",
       "    <tr>\n",
       "      <th>2</th>\n",
       "      <td>ub2bL9C1</td>\n",
       "      <td>http://example.org#Album</td>\n",
       "      <td>The Dark Side of the Moon</td>\n",
       "    </tr>\n",
       "    <tr>\n",
       "      <th>3</th>\n",
       "      <td>http://example.org#erstes</td>\n",
       "      <td>http://example.org#Album</td>\n",
       "      <td>The Dark Side of the Moon</td>\n",
       "    </tr>\n",
       "    <tr>\n",
       "      <th>4</th>\n",
       "      <td>ub2bL27C1</td>\n",
       "      <td>http://example.org#Single</td>\n",
       "      <td>What God Wants, Part 1</td>\n",
       "    </tr>\n",
       "    <tr>\n",
       "      <th>5</th>\n",
       "      <td>http://example.org#zweites</td>\n",
       "      <td>http://example.org#Album</td>\n",
       "      <td>The Wall</td>\n",
       "    </tr>\n",
       "  </tbody>\n",
       "</table>\n",
       "</div>"
      ],
      "text/plain": [
       "                     resource                      class  \\\n",
       "0   http://example.org#dritte  http://example.org#Single   \n",
       "1                   ub2bL18C1   http://example.org#Album   \n",
       "2                    ub2bL9C1   http://example.org#Album   \n",
       "3   http://example.org#erstes   http://example.org#Album   \n",
       "4                   ub2bL27C1  http://example.org#Single   \n",
       "5  http://example.org#zweites   http://example.org#Album   \n",
       "\n",
       "                       title  \n",
       "0     What God Wants, Part 1  \n",
       "1                   The Wall  \n",
       "2  The Dark Side of the Moon  \n",
       "3  The Dark Side of the Moon  \n",
       "4     What God Wants, Part 1  \n",
       "5                   The Wall  "
      ]
     },
     "metadata": {},
     "output_type": "display_data"
    }
   ],
   "source": [
    "rdf = \"\"\"\n",
    ":r1 :title \"The Dark Side of the Moon\" .\n",
    ":r2 :title \"The Wall\" .\n",
    ":r3 :title \"What God Wants, Part 1\" .\n",
    "\"\"\"\n",
    "\n",
    "query(rdf, \"SELECT ?resource ?class ?title WHERE { ?resource rdf:type ?class . ?resource :title ?title }\")\n",
    "\n",
    "# Entspricht die Antwort der SPARQL Abfrage Ihren Erwartungen? Antwort: JA"
   ]
  },
  {
   "cell_type": "markdown",
   "metadata": {
    "deletable": false
   },
   "source": [
    "In der Vorlesung haben wir gesehen, dass man mit RDFS Unterklassen bilden kann.\n",
    "\n",
    "Führen Sie nun eine Klasse `:Work` ein als Oberklasse der Klassen die Sie definiert haben.\n",
    "\n",
    "Die Aussagen sollten festhalten, dass Instanzen Ihrer Klassen *Werke* sind.\n",
    "\n",
    "Schreiben Sie dann eine SPARQL Abfrage mit der Sie die Unterklassen von `:Work` erhalten."
   ]
  },
  {
   "cell_type": "code",
   "execution_count": 18,
   "metadata": {
    "deletable": false
   },
   "outputs": [
    {
     "data": {
      "text/html": [
       "<div>\n",
       "<style scoped>\n",
       "    .dataframe tbody tr th:only-of-type {\n",
       "        vertical-align: middle;\n",
       "    }\n",
       "\n",
       "    .dataframe tbody tr th {\n",
       "        vertical-align: top;\n",
       "    }\n",
       "\n",
       "    .dataframe thead th {\n",
       "        text-align: right;\n",
       "    }\n",
       "</style>\n",
       "<table border=\"1\" class=\"dataframe\">\n",
       "  <thead>\n",
       "    <tr style=\"text-align: right;\">\n",
       "      <th></th>\n",
       "      <th>subclass</th>\n",
       "    </tr>\n",
       "  </thead>\n",
       "  <tbody>\n",
       "    <tr>\n",
       "      <th>0</th>\n",
       "      <td>http://example.org#r2</td>\n",
       "    </tr>\n",
       "    <tr>\n",
       "      <th>1</th>\n",
       "      <td>http://example.org#r1</td>\n",
       "    </tr>\n",
       "    <tr>\n",
       "      <th>2</th>\n",
       "      <td>http://example.org#r3</td>\n",
       "    </tr>\n",
       "  </tbody>\n",
       "</table>\n",
       "</div>"
      ],
      "text/plain": [
       "                subclass\n",
       "0  http://example.org#r2\n",
       "1  http://example.org#r1\n",
       "2  http://example.org#r3"
      ]
     },
     "metadata": {},
     "output_type": "display_data"
    }
   ],
   "source": [
    "rdf = \"\"\"\n",
    "@prefix ex: <http://example.org#> .\n",
    "@prefix rdf: <http://www.w3.org/1999/02/22-rdf-syntax-ns#> .\n",
    "@prefix xsd: <http://www.w3.org/2001/XMLSchema#> .\n",
    "\n",
    "ex:Work a rdfs:Class.\n",
    ":r1 rdf:subClassOf rdfs:ex:Work .\n",
    ":r2 rdf:subClassOf rdfs:ex:Work .\n",
    ":r3 rdf:subClassOf rdfs:ex:Work .\n",
    "\"\"\"\n",
    "\n",
    "query(rdf, \"SELECT ?subclass WHERE {?subclass rdf:subClassOf rdfs:ex:Work . }\")\n",
    "\n",
    "# Entspricht die Antwort der SPARQL Abfrage Ihren Erwartungen? Antwort: "
   ]
  },
  {
   "cell_type": "markdown",
   "metadata": {
    "deletable": false
   },
   "source": [
    "Nun können in RDFS nicht nur Klassen definiert werden sondern auch Prädikate. \n",
    "\n",
    "Spezifizieren Sie als nächstes, dass `:title` und `:released` Prädikate sind.\n",
    "\n",
    "Schreiben Sie dann eine SPARQL Abfrage mit der Sie alle Prädikate erhalten. Stellen Sie dabei sicher, dass die Ausgabe alphabetisch sortiert ist."
   ]
  },
  {
   "cell_type": "code",
   "execution_count": null,
   "metadata": {
    "deletable": false
   },
   "outputs": [],
   "source": [
    "rdf = \"\"\"\n",
    "\"\"\"\n",
    "\n",
    "query(rdf, \"SELECT ...\")\n",
    "\n",
    "# Entspricht die Antwort der SPARQL Abfrage Ihren Erwartungen? Antwort: "
   ]
  },
  {
   "cell_type": "markdown",
   "metadata": {
    "deletable": false
   },
   "source": [
    "RDFS hat zur Folge, dass es zusätzlich zu den *expliziten* Tripel, wie z.B. \n",
    "\n",
    "```\n",
    ":r1 :title \"The Dark Side of the Moon\" .\n",
    "```\n",
    "\n",
    "auch *implizite* Tripel gibt. Solche Tripel sind korrekt (logisch impliziert) stehen aber nicht explizit in der Tripelmenge.\n",
    "\n",
    "Ein Beispiel. Die Folgenden Tripel sagen aus, dass Max Muster ein Student ist und Studenten Personen sind.\n",
    "\n",
    "```\n",
    ":Student rdf:type rdfs:Class .\n",
    ":Person rdf:type rdfs:Class .\n",
    ":Student rdfs:subClassOf rdfs:Person .\n",
    ":r1 rdf:type :Student .\n",
    ":r1 rdfs:label \"Max Muster\" .\n",
    "```\n",
    "\n",
    "Dies sind explizite Tripel.\n",
    "\n",
    "Es folgt allerdings, dass Max Muster eine Person ist, als Tripel\n",
    "\n",
    "```\n",
    ":r1 rdf:type :Person \n",
    "```\n",
    "\n",
    "Dieses Tripel ist implizit, es ist von den obigen fünf Tripel bedingt wird aber nicht explizit aufgeführt.\n",
    "\n",
    "Führen Sie die folgende SPARQL Abfrage aus und beantworten Sie die Fragen."
   ]
  },
  {
   "cell_type": "code",
   "execution_count": null,
   "metadata": {
    "deletable": false
   },
   "outputs": [],
   "source": [
    "reason(rdf, \"\"\"\n",
    "SELECT ?work ?title \n",
    "WHERE {\n",
    "  ?work rdf:type :Work .\n",
    "  ?work :title ?title .\n",
    "}\"\"\")\n",
    "\n",
    "# Erklären Sie warum Sie hier die drei Ressourcen erhalten obwohl Sie nach Werken suchen, \n",
    "# also nach der Oberklasse der beiden Klassen die Sie definiert haben.\n",
    "#\n",
    "# Anwort: "
   ]
  }
 ],
 "metadata": {
  "kernelspec": {
   "display_name": "Python 3",
   "language": "python",
   "name": "python3"
  },
  "language_info": {
   "codemirror_mode": {
    "name": "ipython",
    "version": 3
   },
   "file_extension": ".py",
   "mimetype": "text/x-python",
   "name": "python",
   "nbconvert_exporter": "python",
   "pygments_lexer": "ipython3",
   "version": "3.6.4"
  }
 },
 "nbformat": 4,
 "nbformat_minor": 2
}
