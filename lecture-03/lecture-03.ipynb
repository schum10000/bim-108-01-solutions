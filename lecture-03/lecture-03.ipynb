{
 "cells": [
  {
   "cell_type": "markdown",
   "metadata": {
    "deletable": false
   },
   "source": [
    "# XPath\n",
    "\n",
    "XPath ist eine Sprache zur Verarbeitung von XML Dokumenten. Man kann damit auf Teile eines XML Dokuments zugreifen, durch Elemente und Attribute navigieren, Elemente und Inhalte selektieren, wie auch einfache Operationen auf Inhalten durchführen. In dieser Übung lernen wir XPath anhand praktischen Beispiele besser kennen."
   ]
  },
  {
   "cell_type": "markdown",
   "metadata": {
    "deletable": false
   },
   "source": [
    "Schauen Sie sich die folgenden Beispiele an. \n",
    "\n",
    "Dort wo `# Erklärung:` steht, schreiben Sie Ihre Erklärung für das Resultat."
   ]
  },
  {
   "cell_type": "code",
   "execution_count": 26,
   "metadata": {
    "deletable": false
   },
   "outputs": [],
   "source": [
    "from lxml import etree as et\n",
    "\n",
    "doc = et.fromstring(\"\"\"\n",
    "<discography>\n",
    "  <albums>\n",
    "    <album>\n",
    "      <!-- The 26th best-selling album of all time -->\n",
    "      <title released=\"1973\">The Dark Side of the Moon</title>\n",
    "      <label>Harvest, EMI</label>\n",
    "      <released>\n",
    "        <day>16</day>\n",
    "        <month>03</month>\n",
    "        <year>1973</year>\n",
    "      </released>\n",
    "    </album>\n",
    "    <album>\n",
    "      <!-- The 5th best-selling album of all time -->\n",
    "      <title released=\"1979\">The Wall</title>\n",
    "      <label>Harvest, EMI</label>\n",
    "      <released>\n",
    "        <day>30</day>\n",
    "        <month>11</month>\n",
    "        <year>1979</year> \n",
    "      </released>\n",
    "    </album>\n",
    "  </albums>\n",
    "  <singles>\n",
    "    <single>\n",
    "      <author name=\"Roger Waters\">\n",
    "        <firstname>Roger</firstname>\n",
    "        <lastname>Waters</lastname>\n",
    "      </author>\n",
    "      <title released=\"1992\">What God Wants, Part 1</title>\n",
    "    </single>\n",
    "  </singles>\n",
    "</discography>\n",
    "\"\"\")\n",
    "\n",
    "def e(p):\n",
    "    print('{}'.format(p))\n",
    "    return doc.xpath(p)\n",
    "\n",
    "def p(s):\n",
    "    print('  -> {}\\n'.format(s))"
   ]
  },
  {
   "cell_type": "code",
   "execution_count": 5,
   "metadata": {
    "deletable": false
   },
   "outputs": [
    {
     "name": "stdout",
     "output_type": "stream",
     "text": [
      "/child::discography\n",
      "  -> [<Element discography at 0x1201dbc6a88>]\n",
      "\n"
     ]
    }
   ],
   "source": [
    "# Jede Zeile ist ein XPath welcher auf dem obigen XML Dokument evaluiert wird. \n",
    "# Das Resultat wird nach Ausführung unten angezeigt.\n",
    "p(e('/child::discography')) # Erklärung Liefert zurück an welcher Speicherstelle der Datensatz liegt"
   ]
  },
  {
   "cell_type": "code",
   "execution_count": 6,
   "metadata": {
    "deletable": false
   },
   "outputs": [
    {
     "name": "stdout",
     "output_type": "stream",
     "text": [
      "/discography\n",
      "  -> discography\n",
      "\n",
      "/child::*\n",
      "  -> [<Element discography at 0x24b646a9c48>]\n",
      "\n",
      "/discography/*\n",
      "  -> [<Element albums at 0x24b6484d108>, <Element singles at 0x24b6484d488>]\n",
      "\n",
      "/albums\n",
      "  -> []\n",
      "\n"
     ]
    }
   ],
   "source": [
    "# Hier werden vier XPath evaluiert mit entsprechend vier Resultate\n",
    "p(e('/discography')[0].tag) # Erklärung: liefert die den nullten Tag unter discography\n",
    "p(e('/child::*'))\n",
    "p(e('/discography/*'))\n",
    "p(e('/albums')) # Erklärung: Ohne Parents keine Ergebnisse denn der Pfad ist absout."
   ]
  },
  {
   "cell_type": "code",
   "execution_count": 7,
   "metadata": {
    "deletable": false
   },
   "outputs": [
    {
     "name": "stdout",
     "output_type": "stream",
     "text": [
      "/child::discography/child::albums/child::album\n",
      "  -> [<Element album at 0x24b64639f88>, <Element album at 0x24b6484d648>]\n",
      "\n",
      "/discography/albums/album\n",
      "  -> [<Element album at 0x24b6484d6c8>, <Element album at 0x24b6484d708>]\n",
      "\n",
      "/discography/albums/album/.\n",
      "  -> [<Element album at 0x24b6484d648>, <Element album at 0x24b6484d6c8>]\n",
      "\n",
      "/discography/albums/album\n",
      "  -> <Element album at 0x24b6484d648>\n",
      "\n",
      "/discography/albums/album\n",
      "  -> album\n",
      "\n",
      "/discographie/albums/album\n",
      "  -> []\n",
      "\n"
     ]
    }
   ],
   "source": [
    "p(e('/child::discography/child::albums/child::album'))\n",
    "# Warum ergibt dies das gleiche Resultat wie der vorherige XPath?\n",
    "# Schauen Sie nicht auf die 0x... Nummern.\n",
    "p(e('/discography/albums/album')) # Erklärung: Liefert wieiele Elemente in dem Verzeichnis liegen\n",
    "p(e('/discography/albums/album/.'))\n",
    "p(e('/discography/albums/album')[0]) \n",
    "p(e('/discography/albums/album')[1].tag) # Erklärung:Liefert mir den Tag Nr. 1 des angeforderten Objekts\n",
    "p(e('/discographie/albums/album'))"
   ]
  },
  {
   "cell_type": "code",
   "execution_count": 8,
   "metadata": {
    "deletable": false
   },
   "outputs": [
    {
     "name": "stdout",
     "output_type": "stream",
     "text": [
      "child::singles\n",
      "  -> [<Element singles at 0x24b646a5d08>]\n",
      "\n",
      "singles\n",
      "  -> [<Element singles at 0x24b646a5d08>]\n",
      "\n",
      "./singles\n",
      "  -> [<Element singles at 0x24b646a5d08>]\n",
      "\n",
      "albums/album\n",
      "  -> [<Element album at 0x24b64847a88>, <Element album at 0x24b6484d8c8>]\n",
      "\n"
     ]
    }
   ],
   "source": [
    "p(e('child::singles'))\n",
    "p(e('singles'))\n",
    "p(e('./singles')) # Erklärung:\n",
    "p(e('albums/album'))"
   ]
  },
  {
   "cell_type": "code",
   "execution_count": 10,
   "metadata": {},
   "outputs": [
    {
     "name": "stdout",
     "output_type": "stream",
     "text": [
      "//singles\n",
      "  -> [<Element singles at 0x2876f954288>]\n",
      "\n",
      "//album\n",
      "  -> [<Element album at 0x2876f954288>, <Element album at 0x2876f9542c8>]\n",
      "\n",
      "//day\n",
      "  -> 30\n",
      "\n",
      "//day/text()\n",
      "  -> ['16', '30']\n",
      "\n",
      "//@released\n",
      "  -> ['1973', '1979', '1992']\n",
      "\n",
      "//@*\n",
      "  -> ['1973', '1979', 'Roger Waters', '1992']\n",
      "\n",
      "@*\n",
      "  -> []\n",
      "\n"
     ]
    }
   ],
   "source": [
    "p(e('//singles'))\n",
    "p(e('//album'))\n",
    "p(e('//day')[1].text) # Erklärung: zeigt den Inhalt des Elements Day[1]=30; Day[0]=16\n",
    "p(e('//day/text()'))\n",
    "p(e('//@released'))\n",
    "p(e('//@*'))\n",
    "# Inwiefern ist der folgende XPath anders als der vorherige? \n",
    "p(e('@*')) # Erklärung:Die Pfandangabe ist eine Andere. Der erste findet auf der Achse 3??? statt. Der zweite im Root(Wurzelknoten)."
   ]
  },
  {
   "cell_type": "code",
   "execution_count": 11,
   "metadata": {
    "deletable": false
   },
   "outputs": [
    {
     "name": "stdout",
     "output_type": "stream",
     "text": [
      "descendant::*\n",
      "  -> [<Element albums at 0x2876f954248>, <Element album at 0x2876f954148>, <Element title at 0x2876f954348>, <Element label at 0x2876f954388>, <Element released at 0x2876f9543c8>, <Element day at 0x2876f954448>, <Element month at 0x2876f954488>, <Element year at 0x2876f9544c8>, <Element album at 0x2876f954508>, <Element title at 0x2876f954408>, <Element label at 0x2876f954548>, <Element released at 0x2876f954588>, <Element day at 0x2876f9545c8>, <Element month at 0x2876f954608>, <Element year at 0x2876f954648>, <Element singles at 0x2876f954688>, <Element single at 0x2876f9546c8>, <Element author at 0x2876f954708>, <Element firstname at 0x2876f954748>, <Element lastname at 0x2876f954788>, <Element title at 0x2876f9547c8>]\n",
      "\n",
      "descendant::*/album[1]/title\n",
      "  -> The Dark Side of the Moon\n",
      "\n",
      "descendant::*/album[2]/title/text()\n",
      "  -> ['The Wall']\n",
      "\n",
      "descendant::*/album[2]/title/text()\n",
      "  -> The Wall\n",
      "\n"
     ]
    }
   ],
   "source": [
    "p(e('descendant::*')) # Erklärung: Anforderung: Liefere mir alle(*) Nachkommen.\n",
    "p(e('descendant::*/album[1]/title')[0].text)\n",
    "p(e('descendant::*/album[2]/title/text()'))\n",
    "p(e('descendant::*/album[2]/title/text()')[0]) # Erklärung: Liefere mir den nullten(ersten) Eintrag aus dem angegebenen Pfad."
   ]
  },
  {
   "cell_type": "code",
   "execution_count": 12,
   "metadata": {
    "deletable": false
   },
   "outputs": [
    {
     "name": "stdout",
     "output_type": "stream",
     "text": [
      "/*/albums/album[1]/title/child::text()\n",
      "  -> ['The Dark Side of the Moon']\n",
      "\n",
      "/descendant::*/album[1]/title/child::text()\n",
      "  -> The Dark Side of the Moon\n",
      "\n",
      "/descendant::*/singles/single[1]/title/text()\n",
      "  -> ['What God Wants, Part 1']\n",
      "\n",
      "/descendant::*/singles/single[2]/title/text()\n",
      "  -> []\n",
      "\n"
     ]
    }
   ],
   "source": [
    "p(e('/*/albums/album[1]/title/child::text()')) # Erklärung: \n",
    "p(e('/descendant::*/album[1]/title/child::text()')[0]) # Erklärung: \n",
    "p(e('/descendant::*/singles/single[1]/title/text()'))\n",
    "p(e('/descendant::*/singles/single[2]/title/text()')) # Erklärung: Liefert keine Ausgabe, da es kein 2. Element gibt."
   ]
  },
  {
   "cell_type": "code",
   "execution_count": 13,
   "metadata": {
    "deletable": false
   },
   "outputs": [
    {
     "name": "stdout",
     "output_type": "stream",
     "text": [
      "/discography/albums/album/.\n",
      "  -> [<Element album at 0x2876f954748>, <Element album at 0x2876f954888>]\n",
      "\n",
      "/discography/albums/album/..\n",
      "  -> [<Element albums at 0x2876f954888>]\n",
      "\n",
      "/discography/albums/album[1]/title/following-sibling::*\n",
      "  -> [<Element label at 0x2876f954888>, <Element released at 0x2876f954748>]\n",
      "\n",
      "/discography/albums/album[1]/label/following-sibling::*\n",
      "  -> [<Element released at 0x2876f954888>]\n",
      "\n",
      "/discography/albums/album[1]/released/preceding-sibling::*\n",
      "  -> [<Element title at 0x2876f7e6a08>, <Element label at 0x2876f954888>]\n",
      "\n",
      "/discography/albums/album[1]/released/preceding-sibling::*/text()\n",
      "  -> ['The Dark Side of the Moon', 'Harvest, EMI']\n",
      "\n",
      "//album[1]/parent::node()/album[2]/title/text()\n",
      "  -> ['The Wall']\n",
      "\n",
      "album[1]/parent::node()/album[2]/title/text()\n",
      "  -> []\n",
      "\n"
     ]
    }
   ],
   "source": [
    "p(e('/discography/albums/album/.'))\n",
    "p(e('/discography/albums/album/..')) # Erklärung: Liefert das Elternelement meines Ausgangspunktes.\n",
    "p(e('/discography/albums/album[1]/title/following-sibling::*'))\n",
    "p(e('/discography/albums/album[1]/label/following-sibling::*'))\n",
    "p(e('/discography/albums/album[1]/released/preceding-sibling::*'))\n",
    "p(e('/discography/albums/album[1]/released/preceding-sibling::*/text()')) # Erklärung: Liefert die Werte des Vorgängerzwilling(Ebenenbezogen)\n",
    "p(e('//album[1]/parent::node()/album[2]/title/text()')) # Erklärung:Liefert nur den Titel des 2.Aufrufs\n",
    "p(e('album[1]/parent::node()/album[2]/title/text()'))"
   ]
  },
  {
   "cell_type": "code",
   "execution_count": 21,
   "metadata": {},
   "outputs": [
    {
     "name": "stdout",
     "output_type": "stream",
     "text": [
      "//album/title/text()\n",
      "  -> ['The Dark Side of the Moon', 'The Wall']\n",
      "\n",
      "//album/title/child::text()\n",
      "  -> ['The Dark Side of the Moon', 'The Wall']\n",
      "\n",
      "//album/comment()\n",
      "  -> [<!-- The 26th best-selling album of all time -->, <!-- The 5th best-selling album of all time -->]\n",
      "\n",
      "//album[1]/child::node()\n",
      "  -> ['\\n      ', <!-- The 26th best-selling album of all time -->, '\\n      ', <Element title at 0x2876f954988>, '\\n      ', <Element label at 0x2876f954a08>, '\\n      ', <Element released at 0x2876f954a48>, '\\n    ']\n",
      "\n"
     ]
    }
   ],
   "source": [
    "p(e('//album/title/text()'))\n",
    "p(e('//album/title/child::text()'))\n",
    "p(e('//album/comment()'))\n",
    "p(e('//album[1]/child::node()')) # Erklärung: Gibt alles aus was in Album[1] hinterlegt ist"
   ]
  },
  {
   "cell_type": "code",
   "execution_count": 22,
   "metadata": {
    "deletable": false
   },
   "outputs": [
    {
     "name": "stdout",
     "output_type": "stream",
     "text": [
      "/discography/albums/album/title[@released]\n",
      "  -> [<Element title at 0x2876f954088>, <Element title at 0x2876f954548>]\n",
      "\n",
      "/discography/albums/album/title[@released=\"1979\"]\n",
      "  -> [<Element title at 0x2876f954088>]\n",
      "\n",
      "/discography/albums/album/title[@released=\"1979\"]/text()\n",
      "  -> ['The Wall']\n",
      "\n",
      "/discography/albums/album/title[@released=1979]/text()\n",
      "  -> ['The Wall']\n",
      "\n",
      "//album/title[@released=1973]/text() | //album/released[day=30]/../title/text()\n",
      "  -> ['The Dark Side of the Moon', 'The Wall']\n",
      "\n",
      "descendant::*[firstname]/@name\n",
      "  -> ['Roger Waters']\n",
      "\n",
      "descendant::*[firstname][@name=\"Roger Waters\"]/parent::single/title/text()\n",
      "  -> ['What God Wants, Part 1']\n",
      "\n"
     ]
    }
   ],
   "source": [
    "p(e('/discography/albums/album/title[@released]'))\n",
    "p(e('/discography/albums/album/title[@released=\"1979\"]')) # Erklärung: Gibt mir die Speicherstelle des Datensatzes bei dem released=1979 ist.\n",
    "p(e('/discography/albums/album/title[@released=\"1979\"]/text()'))\n",
    "p(e('/discography/albums/album/title[@released=1979]/text()'))\n",
    "p(e('//album/title[@released=1973]/text() | //album/released[day=30]/../title/text()')) # Erklärung: gibt mir den Titel aus, bei dem released=1979 ist, und den Titel bei der Wert vom Day=30 ist, aus.\n",
    "p(e('descendant::*[firstname]/@name'))\n",
    "p(e('descendant::*[firstname][@name=\"Roger Waters\"]/parent::single/title/text()')) # Erklärung: Liefert vom Datensatz name=Roger Waters, das Elternteil/title als Text."
   ]
  },
  {
   "cell_type": "code",
   "execution_count": 27,
   "metadata": {
    "deletable": false
   },
   "outputs": [
    {
     "name": "stdout",
     "output_type": "stream",
     "text": [
      "count(albums)\n",
      "  -> 1.0\n",
      "\n",
      "count(albums/album)\n",
      "  -> 2.0\n",
      "\n",
      "//album[position()=1]/title/text()\n",
      "  -> ['The Dark Side of the Moon']\n",
      "\n",
      "//album[1]/title/text()\n",
      "  -> ['The Dark Side of the Moon']\n",
      "\n",
      "//album[position()>1]/title/text()\n",
      "  -> ['The Wall']\n",
      "\n",
      "//album[position()>=1]/title/text()\n",
      "  -> ['The Dark Side of the Moon', 'The Wall']\n",
      "\n",
      "//album[last()]/title/text()\n",
      "  -> ['The Wall']\n",
      "\n",
      "//album[starts-with(title, \"The D\")]/title/text()\n",
      "  -> ['The Dark Side of the Moon']\n",
      "\n",
      "//album[contains(title, \"Wall\")]/title/text()\n",
      "  -> ['The Wall']\n",
      "\n",
      "//album/released[not(year=1979)]/parent::node()/title/text()\n",
      "  -> ['The Dark Side of the Moon']\n",
      "\n"
     ]
    }
   ],
   "source": [
    "p(e('count(albums)'))\n",
    "p(e('count(albums/album)')) # Erklärung:Zählt die Einträge mit dem Tag \"Album\"\n",
    "p(e('//album[position()=1]/title/text()'))\n",
    "p(e('//album[1]/title/text()'))\n",
    "p(e('//album[position()>1]/title/text()')) # Erklärung:Liefert mir alle Album Tag´s nach 1 z.B. Album [2]\n",
    "p(e('//album[position()>=1]/title/text()'))\n",
    "p(e('//album[last()]/title/text()'))\n",
    "p(e('//album[starts-with(title, \"The D\")]/title/text()')) # Erklärung: Liefert mir alles Alben die mit \"The D\" beginnen (SQL like)\n",
    "p(e('//album[contains(title, \"Wall\")]/title/text()'))\n",
    "p(e('//album/released[not(year=1979)]/parent::node()/title/text()')) # Erklärung: Liefert mit den Titel der Alben bei den das Atribut released nicht 1979 ist."
   ]
  },
  {
   "cell_type": "markdown",
   "metadata": {
    "deletable": false
   },
   "source": [
    "Und zum Schluss, ein Beispiel mit Namensräumen."
   ]
  },
  {
   "cell_type": "code",
   "execution_count": 28,
   "metadata": {},
   "outputs": [
    {
     "name": "stdout",
     "output_type": "stream",
     "text": [
      "[<Element {http://discography.org}discography at 0x2876f9545c8>]\n",
      "[<Element {http://discography.org}discography at 0x2876f9545c8>]\n",
      "[<Element {http://albums.org}albums at 0x2876f96e108>]\n",
      "[<Element {http://albums.org}albums at 0x2876f967fc8>]\n"
     ]
    }
   ],
   "source": [
    "from lxml import etree as et\n",
    "\n",
    "d = et.fromstring(\"\"\"\n",
    "<disc:discography xmlns:disc=\"http://discography.org\" xmlns:alb=\"http://albums.org\" xmlns=\"http://default.org\">\n",
    "<alb:albums>\n",
    "<alb:album title=\"The Dark Side of the Moon\" alb:year=\"1973\"/>\n",
    "</alb:albums>\n",
    "</disc:discography>\n",
    "\"\"\")\n",
    "\n",
    "print(d.xpath('/disc:discography', namespaces={'disc': 'http://discography.org'}))\n",
    "print(d.xpath('/*[local-name() = \"discography\"]'))\n",
    "print(d.xpath('/disc:discography/alb:albums', namespaces={'disc': 'http://discography.org', 'alb': 'http://albums.org'}))\n",
    "print(d.xpath('/*[local-name() = \"discography\"]/*[local-name() = \"albums\"]'))"
   ]
  },
  {
   "cell_type": "markdown",
   "metadata": {},
   "source": [
    "Denken Sie sich nun ein eigenes XML Dokument aus und testen Sie Ihre XPath Abfragen."
   ]
  },
  {
   "cell_type": "code",
   "execution_count": null,
   "metadata": {
    "deletable": false
   },
   "outputs": [],
   "source": [
    "from lxml import etree as et\n",
    "\n",
    "d = et.fromstring(\"\"\"\n",
    "<!-- Mein XML Dokument -->\n",
    "\"\"\")\n",
    "\n",
    "# Meine XPath Abfragen ... \n",
    "print(d.xpath('...'))"
   ]
  }
 ],
 "metadata": {
  "kernelspec": {
   "display_name": "Python 3",
   "language": "python",
   "name": "python3"
  },
  "language_info": {
   "codemirror_mode": {
    "name": "ipython",
    "version": 3
   },
   "file_extension": ".py",
   "mimetype": "text/x-python",
   "name": "python",
   "nbconvert_exporter": "python",
   "pygments_lexer": "ipython3",
   "version": "3.6.4"
  }
 },
 "nbformat": 4,
 "nbformat_minor": 2
}
