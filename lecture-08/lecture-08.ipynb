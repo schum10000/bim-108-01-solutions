{
 "cells": [
  {
   "cell_type": "markdown",
   "metadata": {
    "deletable": false
   },
   "source": [
    "# RDF: Fortgeschrittene Themen"
   ]
  },
  {
   "cell_type": "markdown",
   "metadata": {
    "deletable": false
   },
   "source": [
    "In dieser Übung werden wir uns einige fortgeschrittene Themen etwas genauer in der Praxis anschauen, insb. Datentypen, der *language tag*, Listen und Reifizierung in RDF. Wir beginnen mit Datetypen. Führen Sie den folgenden Codeblock aus."
   ]
  },
  {
   "cell_type": "code",
   "execution_count": 1,
   "metadata": {
    "deletable": false
   },
   "outputs": [],
   "source": [
    "from rdflib import Graph, Literal, Namespace, BNode\n",
    "from rdflib.namespace import XSD\n",
    "\n",
    "def eq(l1, l2):\n",
    "    print(l1.eq(l2))"
   ]
  },
  {
   "cell_type": "markdown",
   "metadata": {
    "deletable": false
   },
   "source": [
    "Nun schauen Sie sich die folgende Literalvergleiche an und erklären Sie warum das Ergebnis wahr oder falsch ist."
   ]
  },
  {
   "cell_type": "code",
   "execution_count": 2,
   "metadata": {
    "deletable": false
   },
   "outputs": [
    {
     "name": "stdout",
     "output_type": "stream",
     "text": [
      "True\n"
     ]
    }
   ],
   "source": [
    "eq(Literal('1973'), Literal('1973'))\n",
    "# Erklärung: Dies beiden Strings sind gleich == True"
   ]
  },
  {
   "cell_type": "code",
   "execution_count": 3,
   "metadata": {
    "deletable": false
   },
   "outputs": [
    {
     "name": "stdout",
     "output_type": "stream",
     "text": [
      "False\n"
     ]
    }
   ],
   "source": [
    "eq(Literal('1973'), Literal('1979')) \n",
    "# Erklärung: Der String 1973 =|= 1979 == False"
   ]
  },
  {
   "cell_type": "code",
   "execution_count": 4,
   "metadata": {
    "deletable": false
   },
   "outputs": [
    {
     "name": "stdout",
     "output_type": "stream",
     "text": [
      "False\n"
     ]
    }
   ],
   "source": [
    "eq(Literal('1973'), Literal('1973', datatype=XSD.int)) \n",
    "# Erklärung: Hier wird ein String mit einem int verglichen == False"
   ]
  },
  {
   "cell_type": "code",
   "execution_count": 5,
   "metadata": {
    "deletable": false
   },
   "outputs": [
    {
     "name": "stdout",
     "output_type": "stream",
     "text": [
      "True\n"
     ]
    }
   ],
   "source": [
    "eq(Literal('1973', datatype=XSD.integer), Literal('1973', datatype=XSD.int)) \n",
    "# Erklärung: Vegleich von integer(kurz int) mit int(lang integer) == True"
   ]
  },
  {
   "cell_type": "code",
   "execution_count": 8,
   "metadata": {
    "deletable": false
   },
   "outputs": [
    {
     "name": "stdout",
     "output_type": "stream",
     "text": [
      "True\n"
     ]
    }
   ],
   "source": [
    "eq(Literal('1973', datatype=XSD.integer), Literal('1973', datatype=XSD.float)) \n",
    "# Erklärung:  Vergleich von int mit x.0 float == True / mit x.1 x.2... float == False"
   ]
  },
  {
   "cell_type": "code",
   "execution_count": 9,
   "metadata": {
    "deletable": false
   },
   "outputs": [
    {
     "name": "stdout",
     "output_type": "stream",
     "text": [
      "False\n"
     ]
    }
   ],
   "source": [
    "eq(Literal('1973', datatype=XSD.integer), Literal('1973', datatype=XSD.gYear)) \n",
    "# Erklärung: Der String 1973 liegt nicht im Vokabular des Schema gYear. (Sollte bestimmt int sein...)"
   ]
  },
  {
   "cell_type": "markdown",
   "metadata": {
    "deletable": false
   },
   "source": [
    "Untypisierte Literale können auch einen sogenannten *language tag* enthalten.\n",
    "\n",
    "Schauen Sie sich die folgenden Literalvergleiche an und erklären Sie warum das Ergebnis wahr oder falsch ist."
   ]
  },
  {
   "cell_type": "code",
   "execution_count": 10,
   "metadata": {
    "deletable": false
   },
   "outputs": [
    {
     "name": "stdout",
     "output_type": "stream",
     "text": [
      "True\n"
     ]
    }
   ],
   "source": [
    "eq(Literal('The Wall'), Literal('The Wall'))\n",
    "# Erklärung: Vergleich zweier gleicher Strings == True"
   ]
  },
  {
   "cell_type": "code",
   "execution_count": 11,
   "metadata": {
    "deletable": false
   },
   "outputs": [
    {
     "name": "stdout",
     "output_type": "stream",
     "text": [
      "False\n"
     ]
    }
   ],
   "source": [
    "eq(Literal('The Wall'), Literal('The Dark Side of the Moon'))\n",
    "# Erklärung: Vergleich zweier unterschiedlicher Strings == False"
   ]
  },
  {
   "cell_type": "code",
   "execution_count": 12,
   "metadata": {
    "deletable": false
   },
   "outputs": [
    {
     "name": "stdout",
     "output_type": "stream",
     "text": [
      "False\n"
     ]
    }
   ],
   "source": [
    "eq(Literal('The Wall'), Literal('The Wall', lang='en'))\n",
    "# Erklärung: Beim zweiten Literal ist die Sprache bestimmt, beim ersten nicht.\n",
    "# Somit wäre es falsch zu behaupten sie sind in der gleichen Sprache == False"
   ]
  },
  {
   "cell_type": "code",
   "execution_count": 13,
   "metadata": {
    "deletable": false
   },
   "outputs": [
    {
     "name": "stdout",
     "output_type": "stream",
     "text": [
      "True\n"
     ]
    }
   ],
   "source": [
    "eq(Literal('The Wall', lang='en'), Literal('The Wall', lang='en'))\n",
    "# Erklärung: # Erklärung: Vergleich zweier gleicher Strings in gleicher Sprache == True"
   ]
  },
  {
   "cell_type": "code",
   "execution_count": 14,
   "metadata": {
    "deletable": false
   },
   "outputs": [
    {
     "name": "stdout",
     "output_type": "stream",
     "text": [
      "False\n"
     ]
    }
   ],
   "source": [
    "eq(Literal('The Wall', lang='en'), Literal('The Wall', lang='de'))\n",
    "# Erklärung: # Erklärung: Vergleich zweier gleicher Strings in verschiedener Sprache == True"
   ]
  },
  {
   "cell_type": "markdown",
   "metadata": {
    "deletable": false
   },
   "source": [
    "Schauen Sie sich die folgenden RDF Graphen an und erklären Sie wie es zur unterschiedlichen Grösse kommt."
   ]
  },
  {
   "cell_type": "code",
   "execution_count": 16,
   "metadata": {
    "deletable": false
   },
   "outputs": [
    {
     "name": "stdout",
     "output_type": "stream",
     "text": [
      "Länge g0: 1 Tripel\n",
      "Länge g1: 2 Tripel\n",
      "Länge g2: 1 Tripel\n",
      "Länge g3: 2 Tripel\n",
      "Länge g4: 2 Tripel\n",
      "Länge g5: 1 Tripel\n"
     ]
    }
   ],
   "source": [
    "s = BNode()\n",
    "p = BNode()\n",
    "\n",
    "g0 = Graph()\n",
    "g0.add((s, p, Literal('The Wall')))\n",
    "g0.add((s, p, Literal('The Wall')))\n",
    "\n",
    "print('Länge g0: {} Tripel'.format(len(g0))) \n",
    "# Erklärung: hier wird dem Subjekt(g0) das Literal 'The Wall' angehängt.\n",
    "# Zwar 2x, aber das Ergebnis bleibt... \"Diese Wand ist blau\" liefert mir auch nur diese Information.\n",
    "# Auch bei mehrfach Aussage.\n",
    "\n",
    "g1 = Graph()\n",
    "g1.add((s, p, Literal('The Wall', lang='en')))\n",
    "g1.add((s, p, Literal('The Wall', lang='de')))\n",
    "\n",
    "print('Länge g1: {} Tripel'.format(len(g1))) \n",
    "# Erklärung: Hier sagen wir jetzt \"Das Album ist Englisch\" und auch \"Das Album ist Deutsch\".\n",
    "# 2 Aussagen mit unterschiedlichen Informationen == 2 Triple\n",
    "\n",
    "g2 = Graph()\n",
    "g2.add((s, p, Literal('The Wall', lang='en')))\n",
    "g2.add((s, p, Literal('The Wall', lang='en')))\n",
    "\n",
    "print('Länge g2: {} Tripel'.format(len(g2))) \n",
    "# Erklärung: Eine wiederholte Aussage hat den gleichen Informationsgehalt... Bleibt 1 Triple...\n",
    "\n",
    "g3 = Graph()\n",
    "g3.add((s, p, Literal('The Wall')))\n",
    "g3.add((s, p, Literal('The Dark Side of the Moon')))\n",
    "\n",
    "print('Länge g3: {} Tripel'.format(len(g3))) \n",
    "# Erklärung: Subjekt(g0) hat hier zwei Literale bekommen.\n",
    "# Informationsgehalt der Literale ist verschieden, also 2 Triple.\n",
    "\n",
    "g4 = Graph()\n",
    "g4.add((s, p, Literal('1979')))\n",
    "g4.add((s, p, Literal('1979', datatype=XSD.int)))\n",
    "\n",
    "print('Länge g4: {} Tripel'.format(len(g4)))\n",
    "# Erklärung: Subjekt(g0) hat hier zwei Literale bekommen.\n",
    "# Informationsgehalt der Literale ist verschieden(string(1979)+int(1979)), also 2 Triple.\n",
    "\n",
    "g5 = Graph()\n",
    "g5.add((s, p, Literal('1973', datatype=XSD.int)))\n",
    "g5.add((s, p, Literal('1973', datatype=XSD.int)))\n",
    "\n",
    "print('Länge g5: {} Tripel'.format(len(g5))) \n",
    "# Erklärung: Wiederholte Aussage liefert nur eine Information. == 1 Triple"
   ]
  },
  {
   "cell_type": "markdown",
   "metadata": {
    "deletable": false
   },
   "source": [
    "Vervollständigen Sie nun das RDF mit Datentypen und einem *language tag* für Titel, und überprüfen Sie ob das RDF fehlerfrei ist."
   ]
  },
  {
   "cell_type": "code",
   "execution_count": 17,
   "metadata": {
    "deletable": false
   },
   "outputs": [
    {
     "ename": "ImportError",
     "evalue": "No module named 'shortid'",
     "output_type": "error",
     "traceback": [
      "\u001b[0;31m---------------------------------------------------------------------------\u001b[0m",
      "\u001b[0;31mImportError\u001b[0m                               Traceback (most recent call last)",
      "\u001b[0;32m<ipython-input-17-72f33d76d98e>\u001b[0m in \u001b[0;36m<module>\u001b[0;34m()\u001b[0m\n\u001b[1;32m      1\u001b[0m \u001b[0;32mfrom\u001b[0m \u001b[0mrdflib\u001b[0m \u001b[0;32mimport\u001b[0m \u001b[0mGraph\u001b[0m\u001b[0;34m,\u001b[0m \u001b[0mNamespace\u001b[0m\u001b[0;34m,\u001b[0m \u001b[0mBNode\u001b[0m\u001b[0;34m,\u001b[0m \u001b[0mURIRef\u001b[0m\u001b[0;34m,\u001b[0m \u001b[0mLiteral\u001b[0m\u001b[0;34m\u001b[0m\u001b[0m\n\u001b[1;32m      2\u001b[0m \u001b[0;32mfrom\u001b[0m \u001b[0mrdflib\u001b[0m\u001b[0;34m.\u001b[0m\u001b[0mnamespace\u001b[0m \u001b[0;32mimport\u001b[0m \u001b[0mRDF\u001b[0m\u001b[0;34m,\u001b[0m \u001b[0mXSD\u001b[0m\u001b[0;34m\u001b[0m\u001b[0m\n\u001b[0;32m----> 3\u001b[0;31m \u001b[0;32mfrom\u001b[0m \u001b[0mshortid\u001b[0m \u001b[0;32mimport\u001b[0m \u001b[0mShortId\u001b[0m\u001b[0;34m\u001b[0m\u001b[0m\n\u001b[0m\u001b[1;32m      4\u001b[0m \u001b[0;34m\u001b[0m\u001b[0m\n\u001b[1;32m      5\u001b[0m rdf = \"\"\"\n",
      "\u001b[0;31mImportError\u001b[0m: No module named 'shortid'"
     ]
    }
   ],
   "source": [
    "from rdflib import Graph, Namespace, BNode, URIRef, Literal\n",
    "from rdflib.namespace import RDF, XSD\n",
    "from shortid import ShortId\n",
    "\n",
    "rdf = \"\"\"\n",
    "@prefix ex: <http://example.org#> .\n",
    "@prefix rdf: <http://www.w3.org/1999/02/22-rdf-syntax-ns#> .\n",
    "@prefix rdfs: <http://www.w3.org/2000/01/rdf-schema#> .\n",
    "@prefix xml: <http://www.w3.org/XML/1998/namespace> .\n",
    "@prefix xsd: <http://www.w3.org/2001/XMLSchema#> .\n",
    "\n",
    "ex:dobtvAwc a ex:Album ;\n",
    "    ex:title \"The Dark Side of the Moon\"@... ;\n",
    "    ex:title \"Die Dunkle Seite des Mondes\"@... ;\n",
    "    ex:label \"Harvest, EMI\"^^xsd:... ;\n",
    "    ex:released [ \n",
    "      ex:day \"16\"^^xsd:... ;\n",
    "      ex:month \"03\"^^xsd:... ;\n",
    "      ex:year \"1973\"^^xsd:... ] .\n",
    "\"\"\"\n",
    "\n",
    "g = Graph()\n",
    "r = g.parse(data=rdf, format='turtle')\n",
    "\n",
    "print(len(g))"
   ]
  },
  {
   "cell_type": "markdown",
   "metadata": {
    "deletable": false
   },
   "source": [
    "Schreiben Sie nun eine *geschlossene* Einkaufsliste in beliebiger RDF Syntax, lesen Sie das RDF mit `g.parse()` ein und geben Sie dann die Grösse des Graphen aus. Die benötigten Pythonbefehle können Sie aus den obigen Beispielen entnehmen."
   ]
  },
  {
   "cell_type": "code",
   "execution_count": null,
   "metadata": {
    "deletable": false
   },
   "outputs": [],
   "source": []
  }
 ],
 "metadata": {
  "kernelspec": {
   "display_name": "Python 3",
   "language": "python",
   "name": "python3"
  },
  "language_info": {
   "codemirror_mode": {
    "name": "ipython",
    "version": 3
   },
   "file_extension": ".py",
   "mimetype": "text/x-python",
   "name": "python",
   "nbconvert_exporter": "python",
   "pygments_lexer": "ipython3",
   "version": "3.6.4"
  }
 },
 "nbformat": 4,
 "nbformat_minor": 2
}
