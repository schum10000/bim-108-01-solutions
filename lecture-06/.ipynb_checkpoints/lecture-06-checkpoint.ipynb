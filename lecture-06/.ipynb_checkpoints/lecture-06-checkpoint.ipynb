{
 "cells": [
  {
   "cell_type": "markdown",
   "metadata": {
    "deletable": false
   },
   "source": [
    "# Einführung in RDF"
   ]
  },
  {
   "cell_type": "markdown",
   "metadata": {
    "deletable": false
   },
   "source": [
    "In der Vorlesung haben wir das Resource Description Framework (RDF) vorgestellt. Als ein wichtiger Baustein des Semantischen Web, unterstützt RDF die Beschreibung strukturierter Information, die Daten und deren Bedeutung. RDF Daten spannen Graphen, Knoten die mittels direkten Kanten verbunden sind. Diese Datenstruktur ist flexibel und hat wichtige Vorteile gegenüber Bäume. In dieser Übung werden wir RDF in der Praxis etwas näher kennenlernen. Der folgende Codeblock müssen Sie ausführen wenn Sie die entsprechenden Module (`rdflib`, `pydot`, `shortid`) nicht bereits installiert haben. Das können Sie testen indem Sie den zweiten Codeblock ausführen. Erhalten Sie dabei Fehlermeldungen, führen Sie den ersten und danach der zweite Codeblock aus. Warten Sie bis der erste Codeblock ausgeführt wurde bevor Sie den zweiten ausführen. Auf Azure Notebooks kann das 1-2 Minuten dauern. Lesen Sie die Ausgabe und stellen Sie sicher, dass die drei Module erfolgreich installiert wurden."
   ]
  },
  {
   "cell_type": "code",
   "execution_count": 1,
   "metadata": {},
   "outputs": [
    {
     "name": "stdout",
     "output_type": "stream",
     "text": [
      "Collecting rdflib\n",
      "  Downloading https://files.pythonhosted.org/packages/3c/fe/630bacb652680f6d481b9febbb3e2c3869194a1a5fc3401a4a41195a2f8f/rdflib-4.2.2-py3-none-any.whl (344kB)\n",
      "Collecting isodate (from rdflib)\n",
      "  Downloading https://files.pythonhosted.org/packages/9b/9f/b36f7774ff5ea8e428fdcfc4bb332c39ee5b9362ddd3d40d9516a55221b2/isodate-0.6.0-py2.py3-none-any.whl (45kB)\n",
      "Requirement already satisfied: pyparsing in c:\\programdata\\anaconda3\\lib\\site-packages (from rdflib)\n",
      "Requirement already satisfied: six in c:\\programdata\\anaconda3\\lib\\site-packages (from isodate->rdflib)\n",
      "Installing collected packages: isodate, rdflib\n",
      "Successfully installed isodate-0.6.0 rdflib-4.2.2\n"
     ]
    },
    {
     "name": "stderr",
     "output_type": "stream",
     "text": [
      "You are using pip version 9.0.1, however version 10.0.1 is available.\n",
      "You should consider upgrading via the 'python -m pip install --upgrade pip' command.\n"
     ]
    },
    {
     "name": "stdout",
     "output_type": "stream",
     "text": [
      "Collecting shortid\n",
      "  Downloading https://files.pythonhosted.org/packages/e1/91/136269c0cd751c9a26c0243dcdc0a366005f00d390b99ff42990e86fda57/shortid-0.1.2.tar.gz\n",
      "Building wheels for collected packages: shortid\n",
      "  Running setup.py bdist_wheel for shortid: started\n",
      "  Running setup.py bdist_wheel for shortid: finished with status 'done'\n",
      "  Stored in directory: C:\\Users\\basti\\AppData\\Local\\pip\\Cache\\wheels\\11\\1a\\a7\\1388041c8685b4056c7545fc1ee2025aa4bf4ffa33120b5cff\n",
      "Successfully built shortid\n",
      "Installing collected packages: shortid\n",
      "Successfully installed shortid-0.1.2\n"
     ]
    },
    {
     "name": "stderr",
     "output_type": "stream",
     "text": [
      "You are using pip version 9.0.1, however version 10.0.1 is available.\n",
      "You should consider upgrading via the 'python -m pip install --upgrade pip' command.\n"
     ]
    }
   ],
   "source": [
    "# !pip install pydot\n",
    "!pip install rdflib\n",
    "!pip install shortid"
   ]
  },
  {
   "cell_type": "code",
   "execution_count": 3,
   "metadata": {
    "deletable": false
   },
   "outputs": [
    {
     "ename": "ModuleNotFoundError",
     "evalue": "No module named 'pydot'",
     "output_type": "error",
     "traceback": [
      "\u001b[1;31m---------------------------------------------------------------------------\u001b[0m",
      "\u001b[1;31mModuleNotFoundError\u001b[0m                       Traceback (most recent call last)",
      "\u001b[1;32m<ipython-input-3-e299ad841ff6>\u001b[0m in \u001b[0;36m<module>\u001b[1;34m()\u001b[0m\n\u001b[0;32m      1\u001b[0m \u001b[1;32mimport\u001b[0m \u001b[0mio\u001b[0m\u001b[1;33m\u001b[0m\u001b[0m\n\u001b[1;32m----> 2\u001b[1;33m \u001b[1;32mimport\u001b[0m \u001b[0mpydot\u001b[0m\u001b[1;33m\u001b[0m\u001b[0m\n\u001b[0m\u001b[0;32m      3\u001b[0m \u001b[1;32mfrom\u001b[0m \u001b[0mrdflib\u001b[0m \u001b[1;32mimport\u001b[0m \u001b[0mGraph\u001b[0m\u001b[1;33m,\u001b[0m \u001b[0mURIRef\u001b[0m\u001b[1;33m,\u001b[0m \u001b[0mNamespace\u001b[0m\u001b[1;33m,\u001b[0m \u001b[0mLiteral\u001b[0m\u001b[1;33m\u001b[0m\u001b[0m\n\u001b[0;32m      4\u001b[0m \u001b[1;32mfrom\u001b[0m \u001b[0mrdflib\u001b[0m\u001b[1;33m.\u001b[0m\u001b[0mnamespace\u001b[0m \u001b[1;32mimport\u001b[0m \u001b[0mRDF\u001b[0m\u001b[1;33m,\u001b[0m \u001b[0mXSD\u001b[0m\u001b[1;33m\u001b[0m\u001b[0m\n\u001b[0;32m      5\u001b[0m \u001b[1;32mfrom\u001b[0m \u001b[0mIPython\u001b[0m\u001b[1;33m.\u001b[0m\u001b[0mdisplay\u001b[0m \u001b[1;32mimport\u001b[0m \u001b[0mdisplay\u001b[0m\u001b[1;33m,\u001b[0m \u001b[0mImage\u001b[0m\u001b[1;33m\u001b[0m\u001b[0m\n",
      "\u001b[1;31mModuleNotFoundError\u001b[0m: No module named 'pydot'"
     ]
    }
   ],
   "source": [
    "import io\n",
    "import pydot\n",
    "from rdflib import Graph, URIRef, Namespace, Literal\n",
    "from rdflib.namespace import RDF, XSD\n",
    "from IPython.display import display, Image\n",
    "from rdflib.tools.rdf2dot import rdf2dot\n",
    "from shortid import ShortId\n",
    "\n",
    "sid = ShortId()"
   ]
  },
  {
   "cell_type": "markdown",
   "metadata": {
    "deletable": false
   },
   "source": [
    "Der *Unified Resource Identifier* (URI) ist ein zentrales Konzept in RDF. Der Aufbau einer URI haben wir in der Vorlesung erläutert. In praxis wird meist der `http` *scheme* verwendet. Die *authority* ist meist die eigene Domäne über die man frei verfügen kann (z.B. persönliche Domäne, die der eigenen Firma, etc.). Hier benutzen wir `example.org` und definieren `http://example.org#` als *namespace* für die Dinge die wir beschreiben, insb. unsere Pink Floyd Alben. \n",
    "\n",
    "Ein weiteres zentrales Konzept in RDF is das *statement*, die elementare Informationseinheit bestehend aus zwei über eine gerichtete Kante verbundene Knoten.\n",
    "\n",
    "Zuerst definieren wir unser *namespace* und Hilfsfunktionen die das Erstellen von URIs und *statements* etwas erleichern. Führen Sie den folgenden Codeblock einfach aus."
   ]
  },
  {
   "cell_type": "code",
   "execution_count": 4,
   "metadata": {
    "deletable": false
   },
   "outputs": [],
   "source": [
    "ex = Namespace('http://example.org#')\n",
    "\n",
    "def uri(fragment=None):\n",
    "    if fragment == None:\n",
    "        fragment = sid.generate()\n",
    "    return URIRef('{}{}'.format(ex, fragment))\n",
    "\n",
    "def statement(i, j, k):\n",
    "    return (i, j, k)\n",
    "\n",
    "def visualize(g):\n",
    "    stream = io.StringIO()\n",
    "    rdf2dot(g, stream)\n",
    "    (dg,) = pydot.graph_from_dot_data(stream.getvalue())\n",
    "    display(Image(dg.create_png()))\n",
    "    \n",
    "def prettyprint(g):\n",
    "    print(g.serialize(format='nt').decode('utf-8'))"
   ]
  },
  {
   "cell_type": "markdown",
   "metadata": {
    "deletable": false
   },
   "source": [
    "Nun erstellen wir ein *statement*. Interpretieren Sie die `print()` Ausgabe mit Ihrem Nachbarn. Führen Sie den Codeblock mehrmal aus und schauen Sie wie sich die URI des linken Knotens verändert."
   ]
  },
  {
   "cell_type": "code",
   "execution_count": 5,
   "metadata": {
    "deletable": false
   },
   "outputs": [
    {
     "name": "stdout",
     "output_type": "stream",
     "text": [
      "(rdflib.term.URIRef('http://example.org#g1guXC'), rdflib.term.URIRef('http://www.w3.org/1999/02/22-rdf-syntax-ns#type'), rdflib.term.URIRef('http://example.org#Album'))\n"
     ]
    }
   ],
   "source": [
    "print(statement(uri(), RDF.type, uri('Album')))\n",
    "\n",
    "# Erklären Sie die Ausgabe: wir bekommen die URI als (sid.generate), den RDF.type und die URI für URI"
   ]
  },
  {
   "cell_type": "markdown",
   "metadata": {
    "deletable": false
   },
   "source": [
    "Als nächstes erstellen wir einen Graphen mit dem gleichen *statement* und visualisieren den Graph. \n",
    "\n",
    "Führen Sie den Programmcode mehrmals aus. Was ändert sich und warum?"
   ]
  },
  {
   "cell_type": "code",
   "execution_count": 6,
   "metadata": {
    "deletable": false
   },
   "outputs": [
    {
     "data": {
      "image/png": "[encoded data removed]",
      "text/plain": [
       "<IPython.core.display.Image object>"
      ]
     },
     "metadata": {},
     "output_type": "display_data"
    }
   ],
   "source": [
    "g = Graph()\n",
    "g.add(statement(uri(), RDF.type, uri('Album')))\n",
    "visualize(g)\n",
    "\n",
    "# Warum ändert sich die URI des linken Knotens? Antwort:Weil der Funktion URI kein Parameter mitgeliefert wird.\n",
    "# Somit greift der default Wert und es geht in die IF-Schleife. Dort wird dann mit sid.generate() eine URI Generiert."
   ]
  },
  {
   "cell_type": "markdown",
   "metadata": {
    "deletable": false
   },
   "source": [
    "Das war nun ein \"minimaler\" Graph mit nur einem *statement*. Spannender wird es, wenn wir under Album etwas mehr beschreiben. Schauen Sie sich den folgenden Programmcode genau an. Wir benötigen hier weitere Konzepte die wir in der Vorlesung eingeführt haben, z.B. das Literal und Datentypen. Zudem binden wir den Präfix `ex` im erzeugten Graphen."
   ]
  },
  {
   "cell_type": "code",
   "execution_count": 7,
   "metadata": {
    "deletable": false
   },
   "outputs": [
    {
     "data": {
      "image/png": "[encoded data removed]",
      "text/plain": [
       "<IPython.core.display.Image object>"
      ]
     },
     "metadata": {},
     "output_type": "display_data"
    }
   ],
   "source": [
    "g = Graph()\n",
    "g.bind('ex', ex)\n",
    "aAlbum = uri()\n",
    "g.add(statement(aAlbum, RDF.type, uri('Album')))\n",
    "g.add(statement(aAlbum, uri('title'), Literal('The Dark Side of the Moon')))\n",
    "visualize(g)\n",
    "\n",
    "# Wieviele Kanten hat dieser Graph? Antwort: "
   ]
  },
  {
   "cell_type": "markdown",
   "metadata": {
    "deletable": false
   },
   "source": [
    "Wir können den Graph auch anders ausdrucken, per *statement*. Beachten Sie, dass sich die Reihenfolge ändern kann. RDF ist eine *statement* Menge ohne implizite Sortierung. Erinnern Sie sich, dass bei XML die Sortierung von XML Elemente in der Baumstruktur klar definiert ist. Bei RDF gibt es keine equivalente Sortierung."
   ]
  },
  {
   "cell_type": "code",
   "execution_count": 8,
   "metadata": {
    "deletable": false
   },
   "outputs": [
    {
     "name": "stdout",
     "output_type": "stream",
     "text": [
      "<http://example.org#g2goWqo> <http://www.w3.org/1999/02/22-rdf-syntax-ns#type> <http://example.org#Album> .\n",
      "<http://example.org#g2goWqo> <http://example.org#title> \"The Dark Side of the Moon\" .\n",
      "\n",
      "\n"
     ]
    }
   ],
   "source": [
    "prettyprint(g)"
   ]
  },
  {
   "cell_type": "markdown",
   "metadata": {
    "deletable": false
   },
   "source": [
    "Wir können nun das Album weiter beschreiben, inklusive das Label und das release Datum welches wir hier in zwei Variante darstellen: einmal als Literal mit Datentype *date* und einmal mittels eines *blank node*. Schauen Sie sich den *blank node* genau an und erklären Sie wir dieser sich von der Album URI unterscheidet. Ist es möglich den *blank node* zur referenzieren?"
   ]
  },
  {
   "cell_type": "code",
   "execution_count": null,
   "metadata": {
    "deletable": false
   },
   "outputs": [],
   "source": [
    "from rdflib import BNode\n",
    "\n",
    "bn = BNode()\n",
    "\n",
    "g = Graph()\n",
    "g.bind('ex', ex)\n",
    "aAlbum = uri()\n",
    "g.add(statement(aAlbum, RDF.type, uri('Album')))\n",
    "g.add(statement(aAlbum, uri('title'), Literal('The Dark Side of the Moon')))\n",
    "g.add(statement(aAlbum, uri('label'), Literal('Harvest, EMI')))\n",
    "g.add(statement(aAlbum, uri('releasedOn'), Literal('1973-03-16')))\n",
    "g.add(statement(aAlbum, uri('released'), bn))\n",
    "g.add(statement(bn, uri('year'), Literal('1973')))\n",
    "g.add(statement(bn, uri('month'), Literal('03')))\n",
    "g.add(statement(bn, uri('day'), Literal('16')))\n",
    "visualize(g)\n",
    "\n",
    "# Wieviele statements hat dieser Graph? Antwort: "
   ]
  },
  {
   "cell_type": "markdown",
   "metadata": {
    "deletable": false
   },
   "source": [
    "Erzeugen Sie nun einen Graphen der die Ressource `Single` mit Title \"What God Wants, Part 1\" von Author mit Vorname Roger und Nachname Waters im Jahr 1992 veröffentlicht hat."
   ]
  },
  {
   "cell_type": "code",
   "execution_count": null,
   "metadata": {
    "deletable": false
   },
   "outputs": [],
   "source": []
  },
  {
   "cell_type": "markdown",
   "metadata": {
    "deletable": false
   },
   "source": [
    "Und zum Schluss, überlegen Sie sich selbst eine Ressource und beschreiben diese als RDF."
   ]
  },
  {
   "cell_type": "code",
   "execution_count": null,
   "metadata": {
    "deletable": false
   },
   "outputs": [],
   "source": []
  }
 ],
 "metadata": {
  "kernelspec": {
   "display_name": "Python 3",
   "language": "python",
   "name": "python3"
  },
  "language_info": {
   "codemirror_mode": {
    "name": "ipython",
    "version": 3
   },
   "file_extension": ".py",
   "mimetype": "text/x-python",
   "name": "python",
   "nbconvert_exporter": "python",
   "pygments_lexer": "ipython3",
   "version": "3.6.4"
  }
 },
 "nbformat": 4,
 "nbformat_minor": 2
}
