{
 "cells": [
  {
   "cell_type": "markdown",
   "metadata": {
    "deletable": false
   },
   "source": [
    "# SPARQL: Fortgeschrittene Themen"
   ]
  },
  {
   "cell_type": "markdown",
   "metadata": {
    "deletable": false
   },
   "source": [
    "In dieser Übung schauen wir uns einige der eher fortgeschrittenen SPARQL Themen etwas im Detail an. Wie bisher, verwenden wir RDF welches unsere Pink Floyd Diskographie beschreibt."
   ]
  },
  {
   "cell_type": "code",
   "execution_count": 1,
   "metadata": {
    "deletable": false
   },
   "outputs": [
    {
     "name": "stdout",
     "output_type": "stream",
     "text": [
      "Collecting rdflib\n",
      "\u001b[?25l  Downloading https://files.pythonhosted.org/packages/3c/fe/630bacb652680f6d481b9febbb3e2c3869194a1a5fc3401a4a41195a2f8f/rdflib-4.2.2-py3-none-any.whl (344kB)\n",
      "\u001b[K    100% |████████████████████████████████| 348kB 23.8MB/s ta 0:00:01\n",
      "\u001b[?25hRequirement already satisfied: isodate in /home/nbuser/anaconda3_420/lib/python3.5/site-packages (from rdflib) (0.6.0)\n",
      "Requirement already satisfied: pyparsing in /home/nbuser/anaconda3_420/lib/python3.5/site-packages (from rdflib) (2.1.4)\n",
      "Requirement already satisfied: six in /home/nbuser/anaconda3_420/lib/python3.5/site-packages (from isodate->rdflib) (1.10.0)\n",
      "\u001b[31mgrpcio 1.11.0 has requirement protobuf>=3.5.0.post1, but you'll have protobuf 3.4.1 which is incompatible.\u001b[0m\n",
      "\u001b[31mpyasn1-modules 0.2.1 has requirement pyasn1<0.5.0,>=0.4.1, but you'll have pyasn1 0.1.9 which is incompatible.\u001b[0m\n",
      "Installing collected packages: rdflib\n",
      "Successfully installed rdflib-4.2.2\n"
     ]
    }
   ],
   "source": [
    "!pip install rdflib"
   ]
  },
  {
   "cell_type": "code",
   "execution_count": 2,
   "metadata": {
    "deletable": false
   },
   "outputs": [],
   "source": [
    "import pandas as pd\n",
    "from io import BytesIO\n",
    "from io import StringIO\n",
    "from rdflib import Graph\n",
    "from rdflib.plugins.sparql.results.csvresults import CSVResultSerializer\n",
    "from IPython.display import display\n",
    "\n",
    "rdf = \"\"\"\n",
    "@prefix ex: <http://example.org#> .\n",
    "@prefix rdf: <http://www.w3.org/1999/02/22-rdf-syntax-ns#> .\n",
    "@prefix xsd: <http://www.w3.org/2001/XMLSchema#> .\n",
    "\n",
    "[] a ex:Album ;\n",
    "   ex:title \"The Dark Side of the Moon\"^^xsd:string ;\n",
    "   ex:label \"Harvest, EMI\"@en ;\n",
    "   ex:released [ \n",
    "     ex:day \"16\"^^xsd:int ;\n",
    "     ex:month \"03\"^^xsd:int ;\n",
    "     ex:year \"1973\"^^xsd:int \n",
    "   ] .\n",
    "   \n",
    "[] a ex:Album ;\n",
    "   ex:title \"The Wall\"^^xsd:string ;\n",
    "   ex:label \"Harvest, EMI\"@en ;\n",
    "   ex:released [ \n",
    "     ex:day \"30\"^^xsd:int ;\n",
    "     ex:month \"11\"^^xsd:int ;\n",
    "     ex:year \"1979\"^^xsd:int \n",
    "   ] .\n",
    "\n",
    "[] a ex:Single ;\n",
    "   ex:title \"What God Wants, Part 1\"^^xsd:string ;\n",
    "   ex:author [\n",
    "     ex:firstname \"Roger\" ;\n",
    "     ex:lastname \"Waters\"\n",
    "   ] ;\n",
    "   ex:released [ \n",
    "     ex:year \"1992\"^^xsd:int \n",
    "   ] .\n",
    "\"\"\"\n",
    "\n",
    "g = Graph()\n",
    "\n",
    "r = g.parse(data=rdf, format='turtle')\n",
    "\n",
    "def query(q):\n",
    "    serializer = CSVResultSerializer(g.query(q))\n",
    "    output = BytesIO()\n",
    "    serializer.serialize(output)\n",
    "    display(pd.read_csv(StringIO(output.getvalue().decode())))"
   ]
  },
  {
   "cell_type": "code",
   "execution_count": 3,
   "metadata": {
    "deletable": false
   },
   "outputs": [
    {
     "name": "stdout",
     "output_type": "stream",
     "text": [
      "@prefix ex: <http://example.org#> .\n",
      "@prefix rdf: <http://www.w3.org/1999/02/22-rdf-syntax-ns#> .\n",
      "@prefix rdfs: <http://www.w3.org/2000/01/rdf-schema#> .\n",
      "@prefix xml: <http://www.w3.org/XML/1998/namespace> .\n",
      "@prefix xsd: <http://www.w3.org/2001/XMLSchema#> .\n",
      "\n",
      "[] ex:band \"Pink Floyd\" ;\n",
      "    ex:title \"The Wall\"^^xsd:string .\n",
      "\n",
      "[] ex:band \"Pink Floyd\" ;\n",
      "    ex:title \"The Dark Side of the Moon\"^^xsd:string .\n",
      "\n",
      "\n"
     ]
    }
   ],
   "source": [
    "q = \"\"\"\n",
    "PREFIX ex: <http://example.org#> \n",
    "PREFIX rdf: <http://www.w3.org/1999/02/22-rdf-syntax-ns#> \n",
    "PREFIX xsd: <http://www.w3.org/2001/XMLSchema#> \n",
    "\n",
    "CONSTRUCT {\n",
    "  ?album ex:band \"Pink Floyd\" .\n",
    "  ?album ex:title ?title .\n",
    "} WHERE {\n",
    "  ?album rdf:type ex:Album .\n",
    "  ?album ex:title ?title .\n",
    "  FILTER (?title = \"The Dark Side of the Moon\"^^xsd:string || ?title = \"The Wall\")\n",
    "}\n",
    "\"\"\"\n",
    "\n",
    "qr = g.query(q)\n",
    "\n",
    "gr = Graph()\n",
    "gr.bind('ex', 'http://example.org#')\n",
    "\n",
    "for row in qr:\n",
    "    gr.add(row)\n",
    "\n",
    "print(gr.serialize(format='turtle').decode('utf-8'))\n",
    "\n",
    "# Erklären Sie die CONSTRUCT Abfrage: Diese Abfrage liefert ein Albumtitel  und Name \n",
    "# von der Band Pink Floyd wenn beides vorhanden ist und die Bedingungen: \"rdf:type = Album\" und\n",
    "# Titel = \"The Dark... als String\" ODER The Wall ist\n",
    "# --> Warum wird bei dem The Wall das xsd mit ausgegeben? Frage in der nächsten Vorlesung\n",
    "# Erklären Sie das Resultat: "
   ]
  },
  {
   "cell_type": "code",
   "execution_count": 4,
   "metadata": {
    "deletable": false
   },
   "outputs": [
    {
     "name": "stdout",
     "output_type": "stream",
     "text": [
      "True\n"
     ]
    }
   ],
   "source": [
    "q = \"\"\"\n",
    "PREFIX ex: <http://example.org#> \n",
    "PREFIX rdf: <http://www.w3.org/1999/02/22-rdf-syntax-ns#> \n",
    "\n",
    "ASK {\n",
    "  ?single rdf:type ex:Single .\n",
    "}\n",
    "\"\"\"\n",
    "\n",
    "qr = g.query(q)\n",
    "\n",
    "for row in qr:\n",
    "    print(row)\n",
    "    \n",
    "# Erklären Sie die ASK Abfrage: \n",
    "# Warum ist das Resultat 'True': "
   ]
  },
  {
   "cell_type": "code",
   "execution_count": 5,
   "metadata": {
    "deletable": false
   },
   "outputs": [
    {
     "name": "stdout",
     "output_type": "stream",
     "text": [
      "False\n"
     ]
    }
   ],
   "source": [
    "q = \"\"\"\n",
    "PREFIX ex: <http://example.org#> \n",
    "\n",
    "ASK {\n",
    "  [] ex:author [\n",
    "     ex:lastname \"Water\"\n",
    "  ]\n",
    "}\n",
    "\"\"\"\n",
    "\n",
    "qr = g.query(q)\n",
    "\n",
    "for row in qr:\n",
    "    print(row)\n",
    "    \n",
    "# Erklären Sie die ASK Abfrage: hier wird nach einem Triple gesucht bei dem der author \"Waters\" ist\n",
    "# Warum ist das Resultat 'False': Weil das subjekt ein Blank node ist"
   ]
  },
  {
   "cell_type": "code",
   "execution_count": 6,
   "metadata": {
    "deletable": false
   },
   "outputs": [
    {
     "data": {
      "text/html": [
       "<div>\n",
       "<table border=\"1\" class=\"dataframe\">\n",
       "  <thead>\n",
       "    <tr style=\"text-align: right;\">\n",
       "      <th></th>\n",
       "      <th>title</th>\n",
       "    </tr>\n",
       "  </thead>\n",
       "  <tbody>\n",
       "    <tr>\n",
       "      <th>0</th>\n",
       "      <td>The Dark Side of the Moon</td>\n",
       "    </tr>\n",
       "    <tr>\n",
       "      <th>1</th>\n",
       "      <td>The Wall</td>\n",
       "    </tr>\n",
       "    <tr>\n",
       "      <th>2</th>\n",
       "      <td>What God Wants, Part 1</td>\n",
       "    </tr>\n",
       "  </tbody>\n",
       "</table>\n",
       "</div>"
      ],
      "text/plain": [
       "                       title\n",
       "0  The Dark Side of the Moon\n",
       "1                   The Wall\n",
       "2     What God Wants, Part 1"
      ]
     },
     "metadata": {},
     "output_type": "display_data"
    }
   ],
   "source": [
    "q = \"\"\"\n",
    "PREFIX ex: <http://example.org#> \n",
    "PREFIX rdf: <http://www.w3.org/1999/02/22-rdf-syntax-ns#>\n",
    "\n",
    "SELECT ?title \n",
    "WHERE { \n",
    "  [] ex:title ?title ;\n",
    "     ex:released [ ex:year ?year ]\n",
    "}\n",
    "ORDER BY (?year)\n",
    "\"\"\"\n",
    "\n",
    "query(q)\n",
    "\n",
    "# Erklären Sie die Abfrage: Zeigt alle title die ein s:released o:year p:? haben\n",
    "# In welcher Reihenfolge werden die Resultate angezeigt? Antwort:  \n",
    "# Aufsteigend ist bei order by standard.. sonst DESC"
   ]
  },
  {
   "cell_type": "code",
   "execution_count": 7,
   "metadata": {
    "deletable": false
   },
   "outputs": [
    {
     "data": {
      "text/html": [
       "<div>\n",
       "<table border=\"1\" class=\"dataframe\">\n",
       "  <thead>\n",
       "    <tr style=\"text-align: right;\">\n",
       "      <th></th>\n",
       "      <th>title</th>\n",
       "    </tr>\n",
       "  </thead>\n",
       "  <tbody>\n",
       "    <tr>\n",
       "      <th>0</th>\n",
       "      <td>What God Wants, Part 1</td>\n",
       "    </tr>\n",
       "    <tr>\n",
       "      <th>1</th>\n",
       "      <td>The Wall</td>\n",
       "    </tr>\n",
       "    <tr>\n",
       "      <th>2</th>\n",
       "      <td>The Dark Side of the Moon</td>\n",
       "    </tr>\n",
       "  </tbody>\n",
       "</table>\n",
       "</div>"
      ],
      "text/plain": [
       "                       title\n",
       "0     What God Wants, Part 1\n",
       "1                   The Wall\n",
       "2  The Dark Side of the Moon"
      ]
     },
     "metadata": {},
     "output_type": "display_data"
    }
   ],
   "source": [
    "q = \"\"\"\n",
    "PREFIX ex: <http://example.org#> \n",
    "PREFIX rdf: <http://www.w3.org/1999/02/22-rdf-syntax-ns#>\n",
    "\n",
    "SELECT ?title \n",
    "WHERE { \n",
    "  [] ex:title ?title ;\n",
    "     ex:released [ ex:year ?year ]\n",
    "}\n",
    "ORDER BY DESC(?year)\n",
    "\"\"\"\n",
    "\n",
    "query(q)\n",
    "\n",
    "# Inwiefern ist dieses Resultat anders als das letzte? Antwort: absteigend "
   ]
  },
  {
   "cell_type": "code",
   "execution_count": 8,
   "metadata": {
    "deletable": false
   },
   "outputs": [
    {
     "data": {
      "text/html": [
       "<div>\n",
       "<table border=\"1\" class=\"dataframe\">\n",
       "  <thead>\n",
       "    <tr style=\"text-align: right;\">\n",
       "      <th></th>\n",
       "      <th>title</th>\n",
       "      <th>year</th>\n",
       "    </tr>\n",
       "  </thead>\n",
       "  <tbody>\n",
       "    <tr>\n",
       "      <th>0</th>\n",
       "      <td>What God Wants, Part 1</td>\n",
       "      <td>1992</td>\n",
       "    </tr>\n",
       "  </tbody>\n",
       "</table>\n",
       "</div>"
      ],
      "text/plain": [
       "                    title  year\n",
       "0  What God Wants, Part 1  1992"
      ]
     },
     "metadata": {},
     "output_type": "display_data"
    },
    {
     "data": {
      "text/html": [
       "<div>\n",
       "<table border=\"1\" class=\"dataframe\">\n",
       "  <thead>\n",
       "    <tr style=\"text-align: right;\">\n",
       "      <th></th>\n",
       "      <th>title</th>\n",
       "      <th>year</th>\n",
       "    </tr>\n",
       "  </thead>\n",
       "  <tbody>\n",
       "    <tr>\n",
       "      <th>0</th>\n",
       "      <td>The Wall</td>\n",
       "      <td>1979</td>\n",
       "    </tr>\n",
       "  </tbody>\n",
       "</table>\n",
       "</div>"
      ],
      "text/plain": [
       "      title  year\n",
       "0  The Wall  1979"
      ]
     },
     "metadata": {},
     "output_type": "display_data"
    },
    {
     "data": {
      "text/html": [
       "<div>\n",
       "<table border=\"1\" class=\"dataframe\">\n",
       "  <thead>\n",
       "    <tr style=\"text-align: right;\">\n",
       "      <th></th>\n",
       "      <th>title</th>\n",
       "      <th>year</th>\n",
       "    </tr>\n",
       "  </thead>\n",
       "  <tbody>\n",
       "    <tr>\n",
       "      <th>0</th>\n",
       "      <td>The Dark Side of the Moon</td>\n",
       "      <td>1973</td>\n",
       "    </tr>\n",
       "  </tbody>\n",
       "</table>\n",
       "</div>"
      ],
      "text/plain": [
       "                       title  year\n",
       "0  The Dark Side of the Moon  1973"
      ]
     },
     "metadata": {},
     "output_type": "display_data"
    }
   ],
   "source": [
    "q = \"\"\"\n",
    "PREFIX ex: <http://example.org#> \n",
    "PREFIX rdf: <http://www.w3.org/1999/02/22-rdf-syntax-ns#>\n",
    "\n",
    "SELECT ?title ?year\n",
    "WHERE { \n",
    "  [] ex:title ?title ;\n",
    "     ex:released [ ex:year ?year ]\n",
    "}\n",
    "ORDER BY DESC(?year) LIMIT 1 OFFSET 0\n",
    "\"\"\"\n",
    "\n",
    "query(q)\n",
    "\n",
    "q = \"\"\"\n",
    "PREFIX ex: <http://example.org#> \n",
    "PREFIX rdf: <http://www.w3.org/1999/02/22-rdf-syntax-ns#>\n",
    "\n",
    "SELECT ?title ?year\n",
    "WHERE { \n",
    "  [] ex:title ?title ;\n",
    "     ex:released [ ex:year ?year ]\n",
    "}\n",
    "ORDER BY DESC(?year) LIMIT 1 OFFSET 1\n",
    "\"\"\"\n",
    "\n",
    "query(q)\n",
    "\n",
    "q = \"\"\"\n",
    "PREFIX ex: <http://example.org#> \n",
    "PREFIX rdf: <http://www.w3.org/1999/02/22-rdf-syntax-ns#>\n",
    "\n",
    "SELECT ?title ?year\n",
    "WHERE { \n",
    "  [] ex:title ?title ;\n",
    "     ex:released [ ex:year ?year ]\n",
    "}\n",
    "ORDER BY DESC(?year) LIMIT 1 OFFSET 2\n",
    "\"\"\"\n",
    "\n",
    "query(q)\n",
    "\n",
    "# Wieviele Abfragen gibt es hier? Antwort: 3\n",
    "# Erklären Sie das Resultat, insbesondere auch die jeweilige Anzahl Resultate: \n",
    "# Limit gibt an wieviele Resultate gegeben werden sollen und Offset sagt ab welchem \n",
    "# Ergebnis gestartet wird. somit gebe ich bei offset 0 das erst Ergebnis ist. (Der absteigenden Liste)"
   ]
  },
  {
   "cell_type": "markdown",
   "metadata": {
    "deletable": false
   },
   "source": [
    "Ähnlich wie in der Vorlesung für DBpedia gezeigt, stellen wir als nächstes einige Abfragen an den SPARQL Endpoint [http://dblp.l3s.de/d2r/snorql/](http://dblp.l3s.de/d2r/snorql/). Dieser liefert bibliographische Information der [dblp](https://dblp.uni-trier.de/) (Digital Bibliography & Library Project) und ist vom [Forschungszentrum L3S](https://www.l3s.de/de/home) betrieben."
   ]
  },
  {
   "cell_type": "code",
   "execution_count": 11,
   "metadata": {
    "deletable": false
   },
   "outputs": [
    {
     "name": "stdout",
     "output_type": "stream",
     "text": [
      "Collecting SPARQLWrapper\n",
      "  Downloading https://files.pythonhosted.org/packages/7f/c3/72d2d0a2ad86bd8d2bc762406c838f479c421678161cf78585d085436919/SPARQLWrapper-1.8.2-py3-none-any.whl\n",
      "Requirement already satisfied: rdflib>=4.0 in /home/nbuser/anaconda3_420/lib/python3.5/site-packages (from SPARQLWrapper) (4.2.2)\n",
      "Requirement already satisfied: pyparsing in /home/nbuser/anaconda3_420/lib/python3.5/site-packages (from rdflib>=4.0->SPARQLWrapper) (2.1.4)\n",
      "Requirement already satisfied: isodate in /home/nbuser/anaconda3_420/lib/python3.5/site-packages (from rdflib>=4.0->SPARQLWrapper) (0.6.0)\n",
      "Requirement already satisfied: six in /home/nbuser/anaconda3_420/lib/python3.5/site-packages (from isodate->rdflib>=4.0->SPARQLWrapper) (1.10.0)\n",
      "\u001b[31mpyasn1-modules 0.2.1 has requirement pyasn1<0.5.0,>=0.4.1, but you'll have pyasn1 0.1.9 which is incompatible.\u001b[0m\n",
      "\u001b[31mgrpcio 1.11.0 has requirement protobuf>=3.5.0.post1, but you'll have protobuf 3.4.1 which is incompatible.\u001b[0m\n",
      "Installing collected packages: SPARQLWrapper\n",
      "Successfully installed SPARQLWrapper-1.8.2\n"
     ]
    }
   ],
   "source": [
    "!pip install SPARQLWrapper\n",
    "\n",
    "import pandas as pd\n",
    "from io import StringIO\n",
    "from SPARQLWrapper import SPARQLWrapper, JSON\n",
    "\n",
    "pd.set_option('display.max_colwidth', 200)\n",
    "\n",
    "prefixes = \"\"\"\n",
    "PREFIX swrc: <http://swrc.ontoware.org/ontology#>\n",
    "PREFIX rdf: <http://www.w3.org/1999/02/22-rdf-syntax-ns#>\n",
    "PREFIX owl: <http://www.w3.org/2002/07/owl#>\n",
    "PREFIX d2r: <http://sites.wiwiss.fu-berlin.de/suhl/bizer/d2r-server/config.rdf#>\n",
    "PREFIX xsd: <http://www.w3.org/2001/XMLSchema#>\n",
    "PREFIX dcterms: <http://purl.org/dc/terms/>\n",
    "PREFIX rdfs: <http://www.w3.org/2000/01/rdf-schema#>\n",
    "PREFIX map: <file:///home/diederich/d2r-server-0.3.2/dblp-mapping.n3#>\n",
    "PREFIX foaf: <http://xmlns.com/foaf/0.1/>\n",
    "PREFIX dc: <http://purl.org/dc/elements/1.1/>\n",
    "\"\"\"\n",
    "\n",
    "def query(endpoint, sparql):\n",
    "    sw = SPARQLWrapper(endpoint)\n",
    "    sw.setQuery('{}{}'.format(prefixes, sparql))\n",
    "    sw.setReturnFormat(JSON)\n",
    "    json = sw.query().convert()\n",
    "    variables = json['head']['vars']\n",
    "    bindings = json['results']['bindings']\n",
    "    data = {}\n",
    "    for variable in variables:\n",
    "        values = []\n",
    "        for binding in bindings:\n",
    "            values.append(binding[variable]['value'])\n",
    "        data[variable] = values\n",
    "    df = pd.DataFrame(data=data)\n",
    "    display(df)"
   ]
  },
  {
   "cell_type": "code",
   "execution_count": 13,
   "metadata": {
    "deletable": false
   },
   "outputs": [
    {
     "data": {
      "text/html": [
       "<div>\n",
       "<table border=\"1\" class=\"dataframe\">\n",
       "  <thead>\n",
       "    <tr style=\"text-align: right;\">\n",
       "      <th></th>\n",
       "      <th>issued</th>\n",
       "      <th>title</th>\n",
       "      <th>url</th>\n",
       "    </tr>\n",
       "  </thead>\n",
       "  <tbody>\n",
       "    <tr>\n",
       "      <th>0</th>\n",
       "      <td>2018</td>\n",
       "      <td>OWL Reasoning: Subsumption Test Hardness and Modularity.</td>\n",
       "      <td>http://dx.doi.org/doi.org%2F10.1007%2Fs10817-017-9414-8</td>\n",
       "    </tr>\n",
       "    <tr>\n",
       "      <th>1</th>\n",
       "      <td>2018</td>\n",
       "      <td>OWL Reasoning: Subsumption Test Hardness and Modularity.</td>\n",
       "      <td>https://doi.org/10.1007/s10817-017-9414-8</td>\n",
       "    </tr>\n",
       "    <tr>\n",
       "      <th>2</th>\n",
       "      <td>2017</td>\n",
       "      <td>Using Semantic Web Technologies to Underpin the SNOMED CT Query Language.</td>\n",
       "      <td>http://dx.doi.org/doi.org%2F10.1007%2F978-3-319-71078-5%5F20</td>\n",
       "    </tr>\n",
       "    <tr>\n",
       "      <th>3</th>\n",
       "      <td>2017</td>\n",
       "      <td>The OWL Reasoner Evaluation (ORE) 2015 Competition Report.</td>\n",
       "      <td>http://dx.doi.org/doi.org%2F10.1007%2Fs10817-017-9406-8</td>\n",
       "    </tr>\n",
       "    <tr>\n",
       "      <th>4</th>\n",
       "      <td>2017</td>\n",
       "      <td>Using Semantic Web Technologies to Underpin the SNOMED CT Query Language.</td>\n",
       "      <td>https://doi.org/10.1007/978-3-319-71078-5_20</td>\n",
       "    </tr>\n",
       "    <tr>\n",
       "      <th>5</th>\n",
       "      <td>2017</td>\n",
       "      <td>The OWL Reasoner Evaluation (ORE) 2015 Competition Report.</td>\n",
       "      <td>https://doi.org/10.1007/s10817-017-9406-8</td>\n",
       "    </tr>\n",
       "    <tr>\n",
       "      <th>6</th>\n",
       "      <td>2016</td>\n",
       "      <td>Joint Proceedings of the 5th Workshop on Data Mining and Knowledge Discovery meets Linked Open Data and the 1st International Workshop on Completing and Debugging the Semantic Web (Know@LOD-2016, ...</td>\n",
       "      <td>http://ceur-ws.org/Vol-1586</td>\n",
       "    </tr>\n",
       "    <tr>\n",
       "      <th>7</th>\n",
       "      <td>2016</td>\n",
       "      <td>The OWL Reasoner Evaluation (ORE) 2015 Resources.</td>\n",
       "      <td>http://dx.doi.org/doi.org%2F10.1007%2F978-3-319-46547-0%5F17</td>\n",
       "    </tr>\n",
       "    <tr>\n",
       "      <th>8</th>\n",
       "      <td>2016</td>\n",
       "      <td>An Experimental Evaluation of Automatically Generated Multiple Choice Questions from Ontologies.</td>\n",
       "      <td>http://dx.doi.org/doi.org%2F10.1007%2F978-3-319-54627-8%5F3</td>\n",
       "    </tr>\n",
       "    <tr>\n",
       "      <th>9</th>\n",
       "      <td>2016</td>\n",
       "      <td>Ontology-Based Multiple Choice Question Generation.</td>\n",
       "      <td>http://dx.doi.org/doi.org%2F10.1007%2Fs13218-015-0405-9</td>\n",
       "    </tr>\n",
       "  </tbody>\n",
       "</table>\n",
       "</div>"
      ],
      "text/plain": [
       "  issued  \\\n",
       "0   2018   \n",
       "1   2018   \n",
       "2   2017   \n",
       "3   2017   \n",
       "4   2017   \n",
       "5   2017   \n",
       "6   2016   \n",
       "7   2016   \n",
       "8   2016   \n",
       "9   2016   \n",
       "\n",
       "                                                                                                                                                                                                     title  \\\n",
       "0                                                                                                                                                 OWL Reasoning: Subsumption Test Hardness and Modularity.   \n",
       "1                                                                                                                                                 OWL Reasoning: Subsumption Test Hardness and Modularity.   \n",
       "2                                                                                                                                Using Semantic Web Technologies to Underpin the SNOMED CT Query Language.   \n",
       "3                                                                                                                                               The OWL Reasoner Evaluation (ORE) 2015 Competition Report.   \n",
       "4                                                                                                                                Using Semantic Web Technologies to Underpin the SNOMED CT Query Language.   \n",
       "5                                                                                                                                               The OWL Reasoner Evaluation (ORE) 2015 Competition Report.   \n",
       "6  Joint Proceedings of the 5th Workshop on Data Mining and Knowledge Discovery meets Linked Open Data and the 1st International Workshop on Completing and Debugging the Semantic Web (Know@LOD-2016, ...   \n",
       "7                                                                                                                                                        The OWL Reasoner Evaluation (ORE) 2015 Resources.   \n",
       "8                                                                                                         An Experimental Evaluation of Automatically Generated Multiple Choice Questions from Ontologies.   \n",
       "9                                                                                                                                                      Ontology-Based Multiple Choice Question Generation.   \n",
       "\n",
       "                                                            url  \n",
       "0       http://dx.doi.org/doi.org%2F10.1007%2Fs10817-017-9414-8  \n",
       "1                     https://doi.org/10.1007/s10817-017-9414-8  \n",
       "2  http://dx.doi.org/doi.org%2F10.1007%2F978-3-319-71078-5%5F20  \n",
       "3       http://dx.doi.org/doi.org%2F10.1007%2Fs10817-017-9406-8  \n",
       "4                  https://doi.org/10.1007/978-3-319-71078-5_20  \n",
       "5                     https://doi.org/10.1007/s10817-017-9406-8  \n",
       "6                                   http://ceur-ws.org/Vol-1586  \n",
       "7  http://dx.doi.org/doi.org%2F10.1007%2F978-3-319-46547-0%5F17  \n",
       "8   http://dx.doi.org/doi.org%2F10.1007%2F978-3-319-54627-8%5F3  \n",
       "9       http://dx.doi.org/doi.org%2F10.1007%2Fs13218-015-0405-9  "
      ]
     },
     "metadata": {},
     "output_type": "display_data"
    }
   ],
   "source": [
    "query('http://dblp.l3s.de/d2r/sparql', \"\"\"\n",
    "SELECT ?title ?issued ?url\n",
    "WHERE {\n",
    "  [] dc:creator [ rdfs:label \"Bijan Parsia\" ] ;\n",
    "     dc:title ?title ;\n",
    "     dcterms:issued ?issued ;\n",
    "     foaf:homepage ?url\n",
    "}\n",
    "ORDER BY DESC(?issued)\n",
    "LIMIT 10\n",
    "\"\"\")\n",
    "\n",
    "# Erklären Sie was hier geschieht: Hier wird eine Abfrage an die Datenbank gestellt und es soll ausgegeben werden:\n",
    "# vom dc:creator Bijan Parsia wenn die drei Objekte title issued homepage --> Absteigend nach issued"
   ]
  }
 ],
 "metadata": {
  "kernelspec": {
   "display_name": "Python 3",
   "language": "python",
   "name": "python3"
  },
  "language_info": {
   "codemirror_mode": {
    "name": "ipython",
    "version": 3
   },
   "file_extension": ".py",
   "mimetype": "text/x-python",
   "name": "python",
   "nbconvert_exporter": "python",
   "pygments_lexer": "ipython3",
   "version": "3.5.4"
  }
 },
 "nbformat": 4,
 "nbformat_minor": 2
}
