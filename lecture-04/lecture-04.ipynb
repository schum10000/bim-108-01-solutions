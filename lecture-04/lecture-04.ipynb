{
 "cells": [
  {
   "cell_type": "markdown",
   "metadata": {
    "deletable": false
   },
   "source": [
    "# Schema: Document Type Definition (DTD)"
   ]
  },
  {
   "cell_type": "markdown",
   "metadata": {
    "deletable": false
   },
   "source": [
    "Die Document Type Definition ermöglicht die Spezifikation von XML Dokumente und somit das Validieren solcher Dokumente. Man kann mit der DTD Schemas für XML Dokumente entwickeln. So kann man sich unter mehreren Parteien auf ein gemeinsames Vokabular einigen, und die Interoperabilität zwischen entwickelten Systeme ermöglichen oder erhöhen. In dieser Übung schauen wir uns die DTD etwas genauer in der Praxis an. Führen Sie zuerst den folgenden Codeblock aus und machen Sie dann der Reihe nach weiter. Beantworten Sie die Fragen (falls zutreffend). Zum Schluss, schreiben Sie eine eigene DTD und ein exemplarisches XML Dokument dafür. Stellen Sie sicher, dass das XML Dokument wohlgeformt und gültig ist."
   ]
  },
  {
   "cell_type": "code",
   "execution_count": 1,
   "metadata": {
    "deletable": false
   },
   "outputs": [],
   "source": [
    "import io\n",
    "from lxml import etree as et\n",
    "\n",
    "def isvalid(dtd, doc):\n",
    "    print(et.DTD(io.StringIO(dtd)).validate(et.fromstring(doc)))\n",
    "    \n",
    "def exp(doc, path):\n",
    "    print(et.fromstring(doc).xpath(path))"
   ]
  },
  {
   "cell_type": "markdown",
   "metadata": {
    "deletable": false
   },
   "source": [
    "## Elemente"
   ]
  },
  {
   "cell_type": "code",
   "execution_count": 2,
   "metadata": {
    "deletable": false
   },
   "outputs": [
    {
     "name": "stdout",
     "output_type": "stream",
     "text": [
      "True\n"
     ]
    }
   ],
   "source": [
    "isvalid('<!ELEMENT discography EMPTY>', '<discography/>')"
   ]
  },
  {
   "cell_type": "code",
   "execution_count": 4,
   "metadata": {
    "deletable": false
   },
   "outputs": [
    {
     "name": "stdout",
     "output_type": "stream",
     "text": [
      "False\n",
      "True\n",
      "True\n"
     ]
    }
   ],
   "source": [
    "dtd = \"\"\"\n",
    "<!ELEMENT discography (albums)>\n",
    "<!ELEMENT albums EMPTY>\n",
    "\"\"\"\n",
    "\n",
    "isvalid(dtd, \"\"\"\n",
    "<discography/>\n",
    "\"\"\")\n",
    "\n",
    "isvalid(dtd, \"\"\"\n",
    "<discography>\n",
    "  <albums/>\n",
    "</discography>\n",
    "\"\"\")\n",
    "\n",
    "# Warum ist dieses XML Dokument nicht gültig? Antwort: Weil hier 2xalbum gegeben ist\n",
    "isvalid(dtd, \"\"\"\n",
    "<discography>\n",
    "  <albums/>\n",
    "  <albums/>\n",
    "</discography>\n",
    "\"\"\")"
   ]
  },
  {
   "cell_type": "code",
   "execution_count": 5,
   "metadata": {
    "deletable": false
   },
   "outputs": [
    {
     "name": "stdout",
     "output_type": "stream",
     "text": [
      "True\n",
      "True\n",
      "True\n"
     ]
    }
   ],
   "source": [
    "dtd = \"\"\"\n",
    "<!ELEMENT discography (albums*)>\n",
    "<!ELEMENT albums EMPTY>\n",
    "\"\"\"\n",
    "\n",
    "isvalid(dtd, \"\"\"\n",
    "<discography/>\n",
    "\"\"\")\n",
    "\n",
    "isvalid(dtd, \"\"\"\n",
    "<discography>\n",
    "  <albums/>\n",
    "</discography>\n",
    "\"\"\")\n",
    "\n",
    "# Warum ist dieses XML Dokument gültig? Antwort: Wei ich durch den * gesagt habe das, es auch mehrfach vorkommen kann\n",
    "isvalid(dtd, \"\"\"\n",
    "<discography>\n",
    "  <albums/>\n",
    "  <albums/>\n",
    "</discography>\n",
    "\"\"\")"
   ]
  },
  {
   "cell_type": "code",
   "execution_count": 6,
   "metadata": {
    "deletable": false
   },
   "outputs": [
    {
     "name": "stdout",
     "output_type": "stream",
     "text": [
      "True\n",
      "True\n",
      "False\n"
     ]
    }
   ],
   "source": [
    "dtd = \"\"\"\n",
    "<!ELEMENT discography (albums?)>\n",
    "<!ELEMENT albums EMPTY>\n",
    "\"\"\"\n",
    "\n",
    "isvalid(dtd, \"\"\"\n",
    "<discography/>\n",
    "\"\"\")\n",
    "\n",
    "isvalid(dtd, \"\"\"\n",
    "<discography>\n",
    "  <albums/>\n",
    "</discography>\n",
    "\"\"\")\n",
    "\n",
    "# Warum ist dieses XML Dokument nicht gültig? Antwort: Mit dem ? gibt es nur 1 oder kein \"albums\"\n",
    "isvalid(dtd, \"\"\"\n",
    "<discography>\n",
    "  <albums/>\n",
    "  <albums/>\n",
    "</discography>\n",
    "\"\"\")"
   ]
  },
  {
   "cell_type": "code",
   "execution_count": 7,
   "metadata": {
    "deletable": false
   },
   "outputs": [
    {
     "name": "stdout",
     "output_type": "stream",
     "text": [
      "False\n",
      "True\n",
      "True\n"
     ]
    }
   ],
   "source": [
    "dtd = \"\"\"\n",
    "<!ELEMENT discography (albums+)>\n",
    "<!ELEMENT albums EMPTY>\n",
    "\"\"\"\n",
    "\n",
    "# Warum ist dieses XML Dokument nicht gültig? Antwort: Empty und + kollidieren weil + heißt 1 oder mehr.\n",
    "isvalid(dtd, \"\"\"\n",
    "<discography/>\n",
    "\"\"\")\n",
    "\n",
    "isvalid(dtd, \"\"\"\n",
    "<discography>\n",
    "  <albums/>\n",
    "</discography>\n",
    "\"\"\")\n",
    "\n",
    "isvalid(dtd, \"\"\"\n",
    "<discography>\n",
    "  <albums/>\n",
    "  <albums/>\n",
    "</discography>\n",
    "\"\"\")"
   ]
  },
  {
   "cell_type": "code",
   "execution_count": 8,
   "metadata": {
    "deletable": false
   },
   "outputs": [
    {
     "name": "stdout",
     "output_type": "stream",
     "text": [
      "True\n"
     ]
    }
   ],
   "source": [
    "dtd = \"\"\"\n",
    "<!ELEMENT discography (albums)>\n",
    "<!ELEMENT albums (album+)>\n",
    "<!ELEMENT album (title)>\n",
    "<!ELEMENT title (#PCDATA)>\n",
    "\"\"\"\n",
    "\n",
    "isvalid(dtd, \"\"\"\n",
    "<discography>\n",
    "  <albums>\n",
    "    <album>\n",
    "      <title>The Dark Side of the Moon</title>\n",
    "    </album>\n",
    "  </albums>\n",
    "</discography>\n",
    "\"\"\")"
   ]
  },
  {
   "cell_type": "code",
   "execution_count": 9,
   "metadata": {
    "deletable": false
   },
   "outputs": [
    {
     "name": "stdout",
     "output_type": "stream",
     "text": [
      "True\n",
      "False\n"
     ]
    }
   ],
   "source": [
    "dtd = \"\"\"\n",
    "<!ELEMENT discography (albums)>\n",
    "<!ELEMENT albums (album+)>\n",
    "<!ELEMENT album (title, label)>\n",
    "<!ELEMENT title (#PCDATA)>\n",
    "<!ELEMENT label (#PCDATA)>\n",
    "\"\"\"\n",
    "\n",
    "isvalid(dtd, \"\"\"\n",
    "<discography>\n",
    "  <albums>\n",
    "    <album>\n",
    "      <title>The Dark Side of the Moon</title>\n",
    "      <label>Harvest, EMI</label>\n",
    "    </album>\n",
    "  </albums>\n",
    "</discography>\n",
    "\"\"\")\n",
    "\n",
    "# Warum ist dieses XML Dokument nicht gültig? Antwort: Label und Title verwechslet. Reihenfolge\n",
    "isvalid(dtd, \"\"\"\n",
    "<discography>\n",
    "  <albums>\n",
    "    <album>\n",
    "      <label>Harvest, EMI</label>\n",
    "      <title>The Dark Side of the Moon</title>\n",
    "    </album>\n",
    "  </albums>\n",
    "</discography>\n",
    "\"\"\")"
   ]
  },
  {
   "cell_type": "code",
   "execution_count": 12,
   "metadata": {
    "deletable": false
   },
   "outputs": [
    {
     "name": "stdout",
     "output_type": "stream",
     "text": [
      "False\n"
     ]
    }
   ],
   "source": [
    "dtd = \"\"\"\n",
    "<!ELEMENT discography (albums)>\n",
    "<!ELEMENT albums (album+)>\n",
    "<!ELEMENT album (title, label)>\n",
    "<!ELEMENT title (#PCDATA)>\n",
    "\"\"\"\n",
    "\n",
    "# Warum ist dieses XML Dokument nicht gültig? Antwort: Im Schema fehlt <!ELEMENT label (#PCDATA)>\n",
    "isvalid(dtd, \"\"\"\n",
    "<discography>\n",
    "  <albums>\n",
    "    <album>\n",
    "      <title>The Dark Side of the Moon</title>\n",
    "      <label>Harvest, EMI</label>\n",
    "    </album>\n",
    "  </albums>\n",
    "</discography>\n",
    "\"\"\")"
   ]
  },
  {
   "cell_type": "code",
   "execution_count": 13,
   "metadata": {
    "deletable": false
   },
   "outputs": [
    {
     "name": "stdout",
     "output_type": "stream",
     "text": [
      "True\n",
      "True\n"
     ]
    }
   ],
   "source": [
    "dtd = \"\"\"\n",
    "<!ELEMENT discography (albums)>\n",
    "<!ELEMENT albums (album+)>\n",
    "<!ELEMENT album (#PCDATA | title)*>\n",
    "<!ELEMENT title (#PCDATA)>\n",
    "\"\"\"\n",
    "\n",
    "isvalid(dtd, \"\"\"\n",
    "<discography>\n",
    "  <albums>\n",
    "    <album>The Dark Side of the Moon</album>\n",
    "  </albums>\n",
    "</discography>\n",
    "\"\"\")\n",
    "\n",
    "isvalid(dtd, \"\"\"\n",
    "<discography>\n",
    "  <albums>\n",
    "    <album>\n",
    "      <title>The Dark Side of the Moon</title>\n",
    "    </album>\n",
    "  </albums>\n",
    "</discography>\n",
    "\"\"\")"
   ]
  },
  {
   "cell_type": "code",
   "execution_count": 14,
   "metadata": {
    "deletable": false
   },
   "outputs": [
    {
     "name": "stdout",
     "output_type": "stream",
     "text": [
      "True\n",
      "True\n",
      "False\n"
     ]
    }
   ],
   "source": [
    "dtd = \"\"\"\n",
    "<!ELEMENT discography (albums)>\n",
    "<!ELEMENT albums (album+)>\n",
    "<!ELEMENT album (title | label)>\n",
    "<!ELEMENT title (#PCDATA)>\n",
    "<!ELEMENT label (#PCDATA)>\n",
    "\"\"\"\n",
    "\n",
    "isvalid(dtd, \"\"\"\n",
    "<discography>\n",
    "  <albums>\n",
    "    <album>\n",
    "      <title>The Dark Side of the Moon</title>\n",
    "    </album>\n",
    "  </albums>\n",
    "</discography>\n",
    "\"\"\")\n",
    "\n",
    "isvalid(dtd, \"\"\"\n",
    "<discography>\n",
    "  <albums>\n",
    "    <album>\n",
    "      <label>Harvest, EMI</label>\n",
    "    </album>\n",
    "  </albums>\n",
    "</discography>\n",
    "\"\"\")\n",
    "\n",
    "# Warum ist dieses XML Dokument nicht gültig? Antwort: Mit | erzeugen wir oder. Nicht kein oder beides.\n",
    "isvalid(dtd, \"\"\"\n",
    "<discography>\n",
    "  <albums>\n",
    "    <album>\n",
    "      <title>The Dark Side of the Moon</title>\n",
    "      <label>Harvest, EMI</label>\n",
    "    </album>\n",
    "  </albums>\n",
    "</discography>\n",
    "\"\"\")"
   ]
  },
  {
   "cell_type": "code",
   "execution_count": 15,
   "metadata": {
    "deletable": false
   },
   "outputs": [
    {
     "name": "stdout",
     "output_type": "stream",
     "text": [
      "True\n"
     ]
    }
   ],
   "source": [
    "isvalid(\"\"\"\n",
    "<!ELEMENT discography (albums)>\n",
    "<!ELEMENT albums (album*)>\n",
    "<!ELEMENT album (title, label, released)>\n",
    "<!ELEMENT title (#PCDATA)>\n",
    "<!ELEMENT label (#PCDATA)>\n",
    "<!ELEMENT released (day, month, year)>\n",
    "<!ELEMENT day (#PCDATA)>\n",
    "<!ELEMENT month (#PCDATA)>\n",
    "<!ELEMENT year (#PCDATA)>\n",
    "\"\"\", \"\"\"\n",
    "<discography>\n",
    "  <albums>\n",
    "    <album>\n",
    "      <title>The Dark Side of the Moon</title>\n",
    "      <label>Harvest, EMI</label>\n",
    "      <released>\n",
    "        <day>16</day>\n",
    "        <month>03</month>\n",
    "        <year>1973</year>\n",
    "      </released>\n",
    "    </album>\n",
    "  </albums>\n",
    "</discography>\n",
    "\"\"\")"
   ]
  },
  {
   "cell_type": "code",
   "execution_count": 16,
   "metadata": {
    "deletable": false
   },
   "outputs": [
    {
     "name": "stdout",
     "output_type": "stream",
     "text": [
      "True\n",
      "True\n",
      "True\n",
      "True\n"
     ]
    }
   ],
   "source": [
    "dtd = \"\"\"\n",
    "<!ELEMENT discography (albums)>\n",
    "<!ELEMENT albums (album*)>\n",
    "<!ELEMENT album (title, label, released?)>\n",
    "<!ELEMENT title (#PCDATA)>\n",
    "<!ELEMENT label (#PCDATA)>\n",
    "<!ELEMENT released ((day, month)?, year)>\n",
    "<!ELEMENT day (#PCDATA)>\n",
    "<!ELEMENT month (#PCDATA)>\n",
    "<!ELEMENT year (#PCDATA)>\n",
    "\"\"\"\n",
    "\n",
    "isvalid(dtd, \"\"\"\n",
    "<discography>\n",
    "  <albums>\n",
    "    <album>\n",
    "      <title>The Dark Side of the Moon</title>\n",
    "      <label>Harvest, EMI</label>\n",
    "      <released>\n",
    "        <day>16</day>\n",
    "        <month>03</month>\n",
    "        <year>1973</year>\n",
    "      </released>\n",
    "    </album>\n",
    "  </albums>\n",
    "</discography>\n",
    "\"\"\")\n",
    "\n",
    "isvalid(dtd, \"\"\"\n",
    "<discography>\n",
    "  <albums>\n",
    "    <album>\n",
    "      <title>The Dark Side of the Moon</title>\n",
    "      <label>Harvest, EMI</label>\n",
    "    </album>\n",
    "  </albums>\n",
    "</discography>\n",
    "\"\"\")\n",
    "\n",
    "\n",
    "isvalid(dtd, \"\"\"\n",
    "<discography>\n",
    "  <albums>\n",
    "    <album>\n",
    "      <title>The Dark Side of the Moon</title>\n",
    "      <label>Harvest, EMI</label>\n",
    "      <released>\n",
    "        <year>1973</year>\n",
    "      </released>\n",
    "    </album>\n",
    "  </albums>\n",
    "</discography>\n",
    "\"\"\")\n",
    "\n",
    "isvalid(dtd, \"\"\"\n",
    "<discography>\n",
    "  <albums>\n",
    "    <album>\n",
    "      <title>The Dark Side of the Moon</title>\n",
    "      <label>Harvest, EMI</label>\n",
    "    </album>\n",
    "    <album>\n",
    "      <title>The Wall</title>\n",
    "      <label>Harvest, EMI</label>\n",
    "      <released>\n",
    "        <year>1979</year> \n",
    "      </released>\n",
    "    </album>\n",
    "  </albums>\n",
    "</discography>\n",
    "\"\"\")"
   ]
  },
  {
   "cell_type": "markdown",
   "metadata": {
    "deletable": false
   },
   "source": [
    "## Attribute"
   ]
  },
  {
   "cell_type": "code",
   "execution_count": 17,
   "metadata": {
    "deletable": false
   },
   "outputs": [
    {
     "name": "stdout",
     "output_type": "stream",
     "text": [
      "True\n",
      "True\n"
     ]
    }
   ],
   "source": [
    "dtd = \"\"\"\n",
    "<!ELEMENT discography (albums)>\n",
    "<!ELEMENT albums (album*)>\n",
    "<!ELEMENT album (title)>\n",
    "<!ELEMENT title (#PCDATA)>\n",
    "<!ATTLIST title released CDATA \"1973\">\n",
    "\"\"\"\n",
    "\n",
    "isvalid(dtd, \"\"\"\n",
    "<discography>\n",
    "  <albums>\n",
    "    <album>\n",
    "      <title released=\"1973\">The Dark Side of the Moon</title>\n",
    "    </album>\n",
    "  </albums>\n",
    "</discography>\n",
    "\"\"\")\n",
    "\n",
    "isvalid(dtd, \"\"\"\n",
    "<discography>\n",
    "  <albums>\n",
    "    <album>\n",
    "      <title released=\"1979\">The Wall</title>\n",
    "    </album>\n",
    "  </albums>\n",
    "</discography>\n",
    "\"\"\")"
   ]
  },
  {
   "cell_type": "code",
   "execution_count": 20,
   "metadata": {
    "deletable": false
   },
   "outputs": [
    {
     "name": "stdout",
     "output_type": "stream",
     "text": [
      "True\n",
      "False\n"
     ]
    }
   ],
   "source": [
    "dtd = \"\"\"\n",
    "<!ELEMENT discography (albums)>\n",
    "<!ELEMENT albums (album*)>\n",
    "<!ELEMENT album (title)>\n",
    "<!ELEMENT title (#PCDATA)>\n",
    "<!ATTLIST title released CDATA #REQUIRED>\n",
    "\"\"\"\n",
    "\n",
    "isvalid(dtd, \"\"\"\n",
    "<discography>\n",
    "  <albums>\n",
    "    <album>\n",
    "      <title released=\"1973\">The Dark Side of the Moon</title>\n",
    "    </album>\n",
    "  </albums>\n",
    "</discography>\n",
    "\"\"\")\n",
    "\n",
    "# Warum ist dieses XML Dokument nicht gültig? Antwort: Das Attribut released muss gesetzt werden.\n",
    "isvalid(dtd, \"\"\"\n",
    "<discography>\n",
    "  <albums>\n",
    "    <album>\n",
    "      <title>The Dark Side of the Moon</title>\n",
    "    </album>\n",
    "  </albums>\n",
    "</discography>\n",
    "\"\"\")"
   ]
  },
  {
   "cell_type": "code",
   "execution_count": 21,
   "metadata": {
    "deletable": false
   },
   "outputs": [
    {
     "name": "stdout",
     "output_type": "stream",
     "text": [
      "True\n",
      "True\n"
     ]
    }
   ],
   "source": [
    "dtd = \"\"\"\n",
    "<!ELEMENT discography (albums)>\n",
    "<!ELEMENT albums (album*)>\n",
    "<!ELEMENT album (title)>\n",
    "<!ELEMENT title (#PCDATA)>\n",
    "<!ATTLIST title released CDATA #IMPLIED>\n",
    "\"\"\"\n",
    "\n",
    "isvalid(dtd, \"\"\"\n",
    "<discography>\n",
    "  <albums>\n",
    "    <album>\n",
    "      <title released=\"1973\">The Dark Side of the Moon</title>\n",
    "    </album>\n",
    "  </albums>\n",
    "</discography>\n",
    "\"\"\")\n",
    "\n",
    "# Warum ist dieses XML Dokument gültig? Antwort: Nun ist released Optional\n",
    "isvalid(dtd, \"\"\"\n",
    "<discography>\n",
    "  <albums>\n",
    "    <album>\n",
    "      <title>The Dark Side of the Moon</title>\n",
    "    </album>\n",
    "  </albums>\n",
    "</discography>\n",
    "\"\"\")"
   ]
  },
  {
   "cell_type": "code",
   "execution_count": 22,
   "metadata": {
    "deletable": false
   },
   "outputs": [
    {
     "name": "stdout",
     "output_type": "stream",
     "text": [
      "True\n",
      "False\n",
      "True\n"
     ]
    }
   ],
   "source": [
    "dtd = \"\"\"\n",
    "<!ELEMENT discography (albums)>\n",
    "<!ELEMENT albums (album*)>\n",
    "<!ELEMENT album (title)>\n",
    "<!ELEMENT title (#PCDATA)>\n",
    "<!ATTLIST title released CDATA #FIXED \"1973\">\n",
    "\"\"\"\n",
    "\n",
    "isvalid(dtd, \"\"\"\n",
    "<discography>\n",
    "  <albums>\n",
    "    <album>\n",
    "      <title released=\"1973\">The Dark Side of the Moon</title>\n",
    "    </album>\n",
    "  </albums>\n",
    "</discography>\n",
    "\"\"\")\n",
    "\n",
    "# Warum ist dieses XML Dokument nicht gültig? Antwort: Das Attribut ist Optional, aber wenn verhanden, mit 1973.\n",
    "isvalid(dtd, \"\"\"\n",
    "<discography>\n",
    "  <albums>\n",
    "    <album>\n",
    "      <title released=\"1979\">The Wall</title>\n",
    "    </album>\n",
    "  </albums>\n",
    "</discography>\n",
    "\"\"\")\n",
    "\n",
    "isvalid(dtd, \"\"\"\n",
    "<discography>\n",
    "  <albums>\n",
    "    <album>\n",
    "      <title>The Wall</title>\n",
    "    </album>\n",
    "  </albums>\n",
    "</discography>\n",
    "\"\"\")"
   ]
  },
  {
   "cell_type": "code",
   "execution_count": 23,
   "metadata": {
    "deletable": false
   },
   "outputs": [
    {
     "name": "stdout",
     "output_type": "stream",
     "text": [
      "True\n",
      "True\n",
      "False\n"
     ]
    }
   ],
   "source": [
    "dtd = \"\"\"\n",
    "<!ELEMENT discography (albums)>\n",
    "<!ELEMENT albums (album*)>\n",
    "<!ELEMENT album (title)>\n",
    "<!ELEMENT title (#PCDATA)>\n",
    "<!ATTLIST title released (1973 | 1979) #REQUIRED>\n",
    "\"\"\"\n",
    "\n",
    "isvalid(dtd, \"\"\"\n",
    "<discography>\n",
    "  <albums>\n",
    "    <album>\n",
    "      <title released=\"1973\">The Dark Side of the Moon</title>\n",
    "    </album>\n",
    "  </albums>\n",
    "</discography>\n",
    "\"\"\")\n",
    "\n",
    "# Warum ist dieses XML Dokument gültig? Antwort: Hier darf released 1973 1979 annehmen. Nicht aber 1982.\n",
    "isvalid(dtd, \"\"\"\n",
    "<discography>\n",
    "  <albums>\n",
    "    <album>\n",
    "      <title released=\"1973\">The Dark Side of the Moon</title>\n",
    "    </album>\n",
    "    <album>\n",
    "      <title released=\"1979\">The Wall</title>\n",
    "    </album>\n",
    "  </albums>\n",
    "</discography>\n",
    "\"\"\")\n",
    "\n",
    "isvalid(dtd, \"\"\"\n",
    "<discography>\n",
    "  <albums>\n",
    "    <album>\n",
    "      <title released=\"1982\">The Wall</title>\n",
    "    </album>\n",
    "  </albums>\n",
    "</discography>\n",
    "\"\"\")"
   ]
  },
  {
   "cell_type": "code",
   "execution_count": 24,
   "metadata": {
    "deletable": false
   },
   "outputs": [
    {
     "name": "stdout",
     "output_type": "stream",
     "text": [
      "True\n",
      "False\n"
     ]
    }
   ],
   "source": [
    "dtd = \"\"\"\n",
    "<!ELEMENT discography (albums)>\n",
    "<!ELEMENT albums (album*)>\n",
    "<!ELEMENT album (title)>\n",
    "<!ELEMENT title (#PCDATA)>\n",
    "<!ATTLIST title identifier ID #REQUIRED>\n",
    "\"\"\"\n",
    "\n",
    "isvalid(dtd, \"\"\"\n",
    "<discography>\n",
    "  <albums>\n",
    "    <album>\n",
    "      <title identifier=\"p1\">The Dark Side of the Moon</title>\n",
    "    </album>\n",
    "    <album>\n",
    "      <title identifier=\"p2\">The Wall</title>\n",
    "    </album>\n",
    "  </albums>\n",
    "</discography>\n",
    "\"\"\")\n",
    "\n",
    "# Warum ist dieses XML Dokument nicht gültig? Antwort: Die ID wurde mehrfach vergeben.\n",
    "isvalid(dtd, \"\"\"\n",
    "<discography>\n",
    "  <albums>\n",
    "    <album>\n",
    "      <title identifier=\"p1\">The Dark Side of the Moon</title>\n",
    "    </album>\n",
    "    <album>\n",
    "      <title identifier=\"p1\">The Wall</title>\n",
    "    </album>\n",
    "  </albums>\n",
    "</discography>\n",
    "\"\"\")"
   ]
  },
  {
   "cell_type": "code",
   "execution_count": 25,
   "metadata": {
    "deletable": false
   },
   "outputs": [
    {
     "name": "stdout",
     "output_type": "stream",
     "text": [
      "True\n",
      "True\n",
      "False\n"
     ]
    }
   ],
   "source": [
    "dtd = \"\"\"\n",
    "<!ELEMENT discography (albums)>\n",
    "<!ELEMENT albums (album*)>\n",
    "<!ELEMENT album EMPTY>\n",
    "<!ATTLIST album title CDATA #REQUIRED>\n",
    "<!ATTLIST album released CDATA #IMPLIED>\n",
    "\"\"\"\n",
    "\n",
    "isvalid(dtd, \"\"\"\n",
    "<discography>\n",
    "  <albums>\n",
    "    <album title=\"The Dark Side of the Moon\" released=\"1973\"/>\n",
    "  </albums>\n",
    "</discography>\n",
    "\"\"\")\n",
    "\n",
    "isvalid(dtd, \"\"\"\n",
    "<discography>\n",
    "  <albums>\n",
    "    <album title=\"The Dark Side of the Moon\"/>\n",
    "  </albums>\n",
    "</discography>\n",
    "\"\"\")\n",
    "\n",
    "# Warum ist dieses XML Dokument nicht gültig? Antwort: Title is required\n",
    "isvalid(dtd, \"\"\"\n",
    "<discography>\n",
    "  <albums>\n",
    "    <album released=\"1973\"/>\n",
    "  </albums>\n",
    "</discography>\n",
    "\"\"\")"
   ]
  },
  {
   "cell_type": "code",
   "execution_count": 26,
   "metadata": {
    "deletable": false
   },
   "outputs": [
    {
     "name": "stdout",
     "output_type": "stream",
     "text": [
      "True\n"
     ]
    }
   ],
   "source": [
    "dtd = \"\"\"\n",
    "<!ELEMENT discography (albums)>\n",
    "<!ELEMENT albums (album*)>\n",
    "<!ELEMENT album EMPTY>\n",
    "<!ATTLIST album title CDATA #REQUIRED\n",
    "                released CDATA #IMPLIED>\n",
    "\"\"\"\n",
    "\n",
    "isvalid(dtd, \"\"\"\n",
    "<discography>\n",
    "  <albums>\n",
    "    <album title=\"The Dark Side of the Moon\" released=\"1973\"/>\n",
    "  </albums>\n",
    "</discography>\n",
    "\"\"\")"
   ]
  },
  {
   "cell_type": "markdown",
   "metadata": {
    "deletable": false
   },
   "source": [
    "## Entitäten"
   ]
  },
  {
   "cell_type": "code",
   "execution_count": 27,
   "metadata": {
    "deletable": false
   },
   "outputs": [
    {
     "name": "stdout",
     "output_type": "stream",
     "text": [
      "True\n",
      "['Roger Waters']\n"
     ]
    }
   ],
   "source": [
    "dtd = \"\"\"\n",
    "<!ELEMENT discography (albums)>\n",
    "<!ELEMENT albums (album*)>\n",
    "<!ELEMENT album (#PCDATA)>\n",
    "\"\"\"\n",
    "\n",
    "doc = \"\"\"\n",
    "<!DOCTYPE discography [\n",
    "<!ENTITY waters \"Roger Waters\">\n",
    "]>\n",
    "<discography>\n",
    "  <albums>\n",
    "    <album>&waters;</album>\n",
    "  </albums>\n",
    "</discography>\n",
    "\"\"\"\n",
    "\n",
    "isvalid(dtd, doc)\n",
    "\n",
    "# Warum ergibt dies 'Roger Waters'? Antwort: Weil der Name der Entität \"waters\" ist.\n",
    "exp(doc, '/discography/albums/album/text()')"
   ]
  },
  {
   "cell_type": "markdown",
   "metadata": {
    "deletable": false
   },
   "source": [
    "## Namensräume"
   ]
  },
  {
   "cell_type": "code",
   "execution_count": 28,
   "metadata": {
    "deletable": false
   },
   "outputs": [
    {
     "name": "stdout",
     "output_type": "stream",
     "text": [
      "True\n"
     ]
    }
   ],
   "source": [
    "dtd = \"\"\"\n",
    "<!ELEMENT disc:discography (albs:albums)>\n",
    "<!ELEMENT albs:albums (albs:album*)>\n",
    "<!ELEMENT albs:album EMPTY>\n",
    "<!ATTLIST disc:discography xmlns:disc CDATA #FIXED \"http://discography.org\">\n",
    "<!ATTLIST disc:discography xmlns:albs CDATA #FIXED \"http://albums.org\">\n",
    "<!ATTLIST albs:album title CDATA #REQUIRED>\n",
    "<!ATTLIST albs:album released CDATA #REQUIRED>\n",
    "\"\"\"\n",
    "\n",
    "doc = \"\"\"\n",
    "<disc:discography xmlns:disc=\"http://discography.org\" xmlns:albs=\"http://albums.org\">\n",
    "<albs:albums>\n",
    "<albs:album title=\"The Dark Side of the Moon\" released=\"1973\"/>\n",
    "</albs:albums>\n",
    "</disc:discography>\n",
    "\"\"\"\n",
    "\n",
    "isvalid(dtd, doc)"
   ]
  },
  {
   "cell_type": "markdown",
   "metadata": {
    "deletable": false
   },
   "source": [
    "Denken Sie sich nun ein eigenes XML Dokument aus und erstellen Sie dafür eine DTD."
   ]
  },
  {
   "cell_type": "code",
   "execution_count": null,
   "metadata": {
    "deletable": false
   },
   "outputs": [],
   "source": []
  }
 ],
 "metadata": {
  "kernelspec": {
   "display_name": "Python 3",
   "language": "python",
   "name": "python3"
  },
  "language_info": {
   "codemirror_mode": {
    "name": "ipython",
    "version": 3
   },
   "file_extension": ".py",
   "mimetype": "text/x-python",
   "name": "python",
   "nbconvert_exporter": "python",
   "pygments_lexer": "ipython3",
   "version": "3.5.4"
  }
 },
 "nbformat": 4,
 "nbformat_minor": 2
}
