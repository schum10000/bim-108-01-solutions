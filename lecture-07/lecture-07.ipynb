{
 "cells": [
  {
   "cell_type": "markdown",
   "metadata": {
    "deletable": false
   },
   "source": [
    "# RDF Syntax: Eine Breite Wahl"
   ]
  },
  {
   "cell_type": "markdown",
   "metadata": {
    "deletable": false
   },
   "source": [
    "In der Vorlesung haben wir dargestellt wie man einen RDF Graphen als Tripelmenge mittels verschiedenen RDF Syntaxen in Textdateien als Zeichenfolge serialisieren kann. Dies ermöglicht das maschinelle Lesen und Speichern von RDF. In dieser Übung werden Sie die verschiedenen RDF Syntaxen anhand Beispielen näher kennenlernen. Wir verwenden hier die Python Programmiersprache um RDF zu lesen, schreien, und verarbeiten. Wir beginnen mit dem Lesen von RDF in N-Triples Syntax und das Ausgeben der einzelnen Tripel."
   ]
  },
  {
   "cell_type": "code",
   "execution_count": 2,
   "metadata": {
    "deletable": false
   },
   "outputs": [
    {
     "name": "stdout",
     "output_type": "stream",
     "text": [
      "Requirement already satisfied: rdflib in c:\\programdata\\anaconda3\\lib\\site-packages\n",
      "Requirement already satisfied: pyparsing in c:\\programdata\\anaconda3\\lib\\site-packages (from rdflib)\n",
      "Requirement already satisfied: isodate in c:\\programdata\\anaconda3\\lib\\site-packages (from rdflib)\n",
      "Requirement already satisfied: six in c:\\programdata\\anaconda3\\lib\\site-packages (from isodate->rdflib)\n"
     ]
    },
    {
     "name": "stderr",
     "output_type": "stream",
     "text": [
      "You are using pip version 9.0.1, however version 10.0.1 is available.\n",
      "You should consider upgrading via the 'python -m pip install --upgrade pip' command.\n"
     ]
    },
    {
     "name": "stdout",
     "output_type": "stream",
     "text": [
      "subject = http://example.org#Wako5UJ_7t\n",
      "  predicate = http://www.w3.org/1999/02/22-rdf-syntax-ns#type\n",
      "    object = http://example.org#Album\n",
      "subject = http://example.org#Wako5UJ_7t\n",
      "  predicate = http://example.org#title\n",
      "    object = The Dark Side of the Moon\n"
     ]
    }
   ],
   "source": [
    "!pip install rdflib\n",
    "from rdflib import Graph\n",
    "\n",
    "rdf = \"\"\"\n",
    "<http://example.org#Wako5UJ_7t> <http://www.w3.org/1999/02/22-rdf-syntax-ns#type> <http://example.org#Album> .\n",
    "<http://example.org#Wako5UJ_7t> <http://example.org#title> \"The Dark Side of the Moon\" .\n",
    "\"\"\"\n",
    "\n",
    "g = Graph()\n",
    "r = g.parse(data=rdf, format='nt')\n",
    "\n",
    "for s, p, o in g:\n",
    "    print('subject = {}'.format(s))\n",
    "    print('  predicate = {}'.format(p))\n",
    "    print('    object = {}'.format(o))"
   ]
  },
  {
   "cell_type": "markdown",
   "metadata": {
    "deletable": false
   },
   "source": [
    "Was erwarten Sie hier als Resultat? Wieviele Tripel enthält die Tripelmenge?"
   ]
  },
  {
   "cell_type": "code",
   "execution_count": 3,
   "metadata": {
    "deletable": false
   },
   "outputs": [
    {
     "name": "stdout",
     "output_type": "stream",
     "text": [
      "2\n"
     ]
    }
   ],
   "source": [
    "print(len(g))\n",
    "#  eine Ausgabe zu jedem Triple in der s p o angegeben wird... also im code oben... \n",
    "#  im unteren nur die Anzahl der Triple"
   ]
  },
  {
   "cell_type": "markdown",
   "metadata": {
    "deletable": false
   },
   "source": [
    "Nun serialisieren wir den Graphen mittels einer anderen Syntax, z.B. Turtle."
   ]
  },
  {
   "cell_type": "code",
   "execution_count": 5,
   "metadata": {
    "deletable": false,
    "scrolled": true
   },
   "outputs": [
    {
     "name": "stdout",
     "output_type": "stream",
     "text": [
      "@prefix ns1: <http://example.org#> .\n",
      "@prefix rdf: <http://www.w3.org/1999/02/22-rdf-syntax-ns#> .\n",
      "@prefix rdfs: <http://www.w3.org/2000/01/rdf-schema#> .\n",
      "@prefix xml: <http://www.w3.org/XML/1998/namespace> .\n",
      "@prefix xsd: <http://www.w3.org/2001/XMLSchema#> .\n",
      "\n",
      "ns1:Wako5UJ_7t a ns1:Album ;\n",
      "    ns1:title \"The Dark Side of the Moon\" .\n",
      "\n",
      "\n"
     ]
    }
   ],
   "source": [
    "print(g.serialize(format='turtle').decode('utf-8'))"
   ]
  },
  {
   "cell_type": "markdown",
   "metadata": {
    "deletable": false
   },
   "source": [
    "Der Präfix (*prefix*) `ns1:` für `http://example.org#` ist zwar technisch OK aber er ist nicht gerade aussagekräftig. Eine bessere Wahl wäre `ex:`. Dafür müssen wir den Präfix binden (registrieren)."
   ]
  },
  {
   "cell_type": "code",
   "execution_count": 6,
   "metadata": {
    "deletable": false
   },
   "outputs": [
    {
     "name": "stdout",
     "output_type": "stream",
     "text": [
      "@prefix ex: <http://example.org#> .\n",
      "@prefix rdf: <http://www.w3.org/1999/02/22-rdf-syntax-ns#> .\n",
      "@prefix rdfs: <http://www.w3.org/2000/01/rdf-schema#> .\n",
      "@prefix xml: <http://www.w3.org/XML/1998/namespace> .\n",
      "@prefix xsd: <http://www.w3.org/2001/XMLSchema#> .\n",
      "\n",
      "ex:Wako5UJ_7t a ex:Album ;\n",
      "    ex:title \"The Dark Side of the Moon\" .\n",
      "\n",
      "\n"
     ]
    }
   ],
   "source": [
    "g = Graph()\n",
    "\n",
    "g.bind('ex', 'http://example.org#')\n",
    "\n",
    "r = g.parse(data=rdf, format='nt')\n",
    "\n",
    "print(g.serialize(format='turtle').decode('utf-8'))\n",
    "\n",
    "# Was hat sich geändert gegenüber dem vorherigen Beispiel? \n",
    "# Antwort: wir können jetzt ex als Abkürzung für example verwenden.\n",
    "# Vorher war es ns1."
   ]
  },
  {
   "cell_type": "markdown",
   "metadata": {
    "deletable": false
   },
   "source": [
    "Nun serialisieren wir den Graphen als RDF/XML. Das Resultat der Serialisierung ist implementierungsabhängig. Es werden hier z.B. weder XML Entitäten noch der XML *base namespace* verwendet. Solche Entscheidungen können wir allerdings der Sprache überlassen: Wir müssen uns darüber nicht sonderlich kümmern."
   ]
  },
  {
   "cell_type": "code",
   "execution_count": 7,
   "metadata": {
    "deletable": false
   },
   "outputs": [
    {
     "name": "stdout",
     "output_type": "stream",
     "text": [
      "<?xml version=\"1.0\" encoding=\"UTF-8\"?>\n",
      "<rdf:RDF\n",
      "   xmlns:ex=\"http://example.org#\"\n",
      "   xmlns:rdf=\"http://www.w3.org/1999/02/22-rdf-syntax-ns#\"\n",
      ">\n",
      "  <rdf:Description rdf:about=\"http://example.org#Wako5UJ_7t\">\n",
      "    <ex:title>The Dark Side of the Moon</ex:title>\n",
      "    <rdf:type rdf:resource=\"http://example.org#Album\"/>\n",
      "  </rdf:Description>\n",
      "</rdf:RDF>\n",
      "\n"
     ]
    }
   ],
   "source": [
    "print(g.serialize(format='xml').decode('utf-8'))"
   ]
  },
  {
   "cell_type": "markdown",
   "metadata": {
    "deletable": false
   },
   "source": [
    "Nehmen Sie nun das RDF/XML als Input und serialisieren Sie es nach N-Triples. Zwischen solchen RDF Syntaxen zu konvertieren ist also sehr einfach. Versuchen Sie das auch mal online hier: http://www.easyrdf.org/converter. Welche weiteren Syntaxen gibt es?"
   ]
  },
  {
   "cell_type": "code",
   "execution_count": 8,
   "metadata": {
    "deletable": false
   },
   "outputs": [
    {
     "ename": "PluginException",
     "evalue": "No plugin registered for ([nt], <class 'rdflib.parser.Parser'>)",
     "output_type": "error",
     "traceback": [
      "\u001b[1;31m---------------------------------------------------------------------------\u001b[0m",
      "\u001b[1;31mKeyError\u001b[0m                                  Traceback (most recent call last)",
      "\u001b[1;32mC:\\ProgramData\\Anaconda3\\lib\\site-packages\\rdflib\\plugin.py\u001b[0m in \u001b[0;36mget\u001b[1;34m(name, kind)\u001b[0m\n\u001b[0;32m     99\u001b[0m     \u001b[1;32mtry\u001b[0m\u001b[1;33m:\u001b[0m\u001b[1;33m\u001b[0m\u001b[0m\n\u001b[1;32m--> 100\u001b[1;33m         \u001b[0mp\u001b[0m \u001b[1;33m=\u001b[0m \u001b[0m_plugins\u001b[0m\u001b[1;33m[\u001b[0m\u001b[1;33m(\u001b[0m\u001b[0mname\u001b[0m\u001b[1;33m,\u001b[0m \u001b[0mkind\u001b[0m\u001b[1;33m)\u001b[0m\u001b[1;33m]\u001b[0m\u001b[1;33m\u001b[0m\u001b[0m\n\u001b[0m\u001b[0;32m    101\u001b[0m     \u001b[1;32mexcept\u001b[0m \u001b[0mKeyError\u001b[0m\u001b[1;33m:\u001b[0m\u001b[1;33m\u001b[0m\u001b[0m\n",
      "\u001b[1;31mKeyError\u001b[0m: ('[nt]', <class 'rdflib.parser.Parser'>)",
      "\nDuring handling of the above exception, another exception occurred:\n",
      "\u001b[1;31mPluginException\u001b[0m                           Traceback (most recent call last)",
      "\u001b[1;32m<ipython-input-8-bbd92a2b33e7>\u001b[0m in \u001b[0;36m<module>\u001b[1;34m()\u001b[0m\n\u001b[0;32m     12\u001b[0m \u001b[1;33m\u001b[0m\u001b[0m\n\u001b[0;32m     13\u001b[0m \u001b[0mg\u001b[0m \u001b[1;33m=\u001b[0m \u001b[0mGraph\u001b[0m\u001b[1;33m(\u001b[0m\u001b[1;33m)\u001b[0m\u001b[1;33m\u001b[0m\u001b[0m\n\u001b[1;32m---> 14\u001b[1;33m \u001b[0mr\u001b[0m \u001b[1;33m=\u001b[0m \u001b[0mg\u001b[0m\u001b[1;33m.\u001b[0m\u001b[0mparse\u001b[0m\u001b[1;33m(\u001b[0m\u001b[0mdata\u001b[0m\u001b[1;33m=\u001b[0m\u001b[0mrdf\u001b[0m\u001b[1;33m,\u001b[0m \u001b[0mformat\u001b[0m\u001b[1;33m=\u001b[0m\u001b[1;34m'[nt]'\u001b[0m\u001b[1;33m)\u001b[0m\u001b[1;33m\u001b[0m\u001b[0m\n\u001b[0m\u001b[0;32m     15\u001b[0m \u001b[0mprint\u001b[0m\u001b[1;33m(\u001b[0m\u001b[0mg\u001b[0m\u001b[1;33m.\u001b[0m\u001b[0mserialize\u001b[0m\u001b[1;33m(\u001b[0m\u001b[0mformat\u001b[0m\u001b[1;33m=\u001b[0m\u001b[1;34m'[nt]'\u001b[0m\u001b[1;33m)\u001b[0m\u001b[1;33m.\u001b[0m\u001b[0mdecode\u001b[0m\u001b[1;33m(\u001b[0m\u001b[1;34m'utf-8'\u001b[0m\u001b[1;33m)\u001b[0m\u001b[1;33m)\u001b[0m\u001b[1;33m\u001b[0m\u001b[0m\n\u001b[0;32m     16\u001b[0m \u001b[1;33m\u001b[0m\u001b[0m\n",
      "\u001b[1;32mC:\\ProgramData\\Anaconda3\\lib\\site-packages\\rdflib\\graph.py\u001b[0m in \u001b[0;36mparse\u001b[1;34m(self, source, publicID, format, location, file, data, **args)\u001b[0m\n\u001b[0;32m   1039\u001b[0m             \u001b[1;31m# \"expicitly specify one with the format argument.\" % source)\u001b[0m\u001b[1;33m\u001b[0m\u001b[1;33m\u001b[0m\u001b[0m\n\u001b[0;32m   1040\u001b[0m             \u001b[0mformat\u001b[0m \u001b[1;33m=\u001b[0m \u001b[1;34m\"application/rdf+xml\"\u001b[0m\u001b[1;33m\u001b[0m\u001b[0m\n\u001b[1;32m-> 1041\u001b[1;33m         \u001b[0mparser\u001b[0m \u001b[1;33m=\u001b[0m \u001b[0mplugin\u001b[0m\u001b[1;33m.\u001b[0m\u001b[0mget\u001b[0m\u001b[1;33m(\u001b[0m\u001b[0mformat\u001b[0m\u001b[1;33m,\u001b[0m \u001b[0mParser\u001b[0m\u001b[1;33m)\u001b[0m\u001b[1;33m(\u001b[0m\u001b[1;33m)\u001b[0m\u001b[1;33m\u001b[0m\u001b[0m\n\u001b[0m\u001b[0;32m   1042\u001b[0m         \u001b[1;32mtry\u001b[0m\u001b[1;33m:\u001b[0m\u001b[1;33m\u001b[0m\u001b[0m\n\u001b[0;32m   1043\u001b[0m             \u001b[0mparser\u001b[0m\u001b[1;33m.\u001b[0m\u001b[0mparse\u001b[0m\u001b[1;33m(\u001b[0m\u001b[0msource\u001b[0m\u001b[1;33m,\u001b[0m \u001b[0mself\u001b[0m\u001b[1;33m,\u001b[0m \u001b[1;33m**\u001b[0m\u001b[0margs\u001b[0m\u001b[1;33m)\u001b[0m\u001b[1;33m\u001b[0m\u001b[0m\n",
      "\u001b[1;32mC:\\ProgramData\\Anaconda3\\lib\\site-packages\\rdflib\\plugin.py\u001b[0m in \u001b[0;36mget\u001b[1;34m(name, kind)\u001b[0m\n\u001b[0;32m    101\u001b[0m     \u001b[1;32mexcept\u001b[0m \u001b[0mKeyError\u001b[0m\u001b[1;33m:\u001b[0m\u001b[1;33m\u001b[0m\u001b[0m\n\u001b[0;32m    102\u001b[0m         raise PluginException(\n\u001b[1;32m--> 103\u001b[1;33m             \"No plugin registered for (%s, %s)\" % (name, kind))\n\u001b[0m\u001b[0;32m    104\u001b[0m     \u001b[1;32mreturn\u001b[0m \u001b[0mp\u001b[0m\u001b[1;33m.\u001b[0m\u001b[0mgetClass\u001b[0m\u001b[1;33m(\u001b[0m\u001b[1;33m)\u001b[0m\u001b[1;33m\u001b[0m\u001b[0m\n\u001b[0;32m    105\u001b[0m \u001b[1;33m\u001b[0m\u001b[0m\n",
      "\u001b[1;31mPluginException\u001b[0m: No plugin registered for ([nt], <class 'rdflib.parser.Parser'>)"
     ]
    }
   ],
   "source": [
    "rdf = \"\"\"\n",
    "<rdf:RDF\n",
    "   xmlns:ex=\"http://example.org#\"\n",
    "   xmlns:rdf=\"http://www.w3.org/1999/02/22-rdf-syntax-ns#\"\n",
    ">\n",
    "  <rdf:Description rdf:about=\"http://example.org#Wako5UJ_7t\">\n",
    "    <rdf:type rdf:resource=\"http://example.org#Album\"/>\n",
    "    <ex:title>The Dark Side of the Moon</ex:title>\n",
    "  </rdf:Description>\n",
    "</rdf:RDF>\n",
    "\"\"\"\n",
    "\n",
    "g = Graph()\n",
    "r = g.parse(data=rdf, format='[nt]')\n",
    "print(g.serialize(format='[nt]').decode('utf-8'))\n",
    "\n",
    "# Wieviele Syntaxen unterstützt der easyrdf.org converter? Antwort: 8"
   ]
  },
  {
   "cell_type": "markdown",
   "metadata": {
    "deletable": false
   },
   "source": [
    "Natürlich können Sie RDF auch aus Dateien lesen und schreiben. Führen Sie den nächsten Programmcode aus und schauen Sie sich die Dateien `example.rdf` und `example.n3` an. Wie Sie am Beispiel entnehmen können, dann man RDF Graphen auch programmatisch manipulieren."
   ]
  },
  {
   "cell_type": "code",
   "execution_count": 10,
   "metadata": {
    "deletable": false
   },
   "outputs": [
    {
     "name": "stdout",
     "output_type": "stream",
     "text": [
      "Graph size: 5 triples\n",
      "Graph size: 6 triples\n",
      "Graph size: 5 triples\n"
     ]
    }
   ],
   "source": [
    "from rdflib import Graph, URIRef, Literal\n",
    "from rdflib.namespace import RDFS\n",
    "\n",
    "g = Graph()\n",
    "r = g.parse('example.rdf')\n",
    "\n",
    "print('Graph size: {} triples'.format(len(g)))\n",
    "\n",
    "g.add((URIRef('http://example.org#Wako5UJ_7t'), URIRef('http://example.org#book'), Literal('Der alte Mann und das Meer')))\n",
    "\n",
    "print('Graph size: {} triples'.format(len(g)))\n",
    "\n",
    "g.remove((URIRef('http://example.org#Wako5UJ_7t'), URIRef('http://example.org#book'), Literal('Der alte Mann und das Meer')))\n",
    "\n",
    "print('Graph size: {} triples'.format(len(g)))\n",
    "\n",
    "g.serialize(destination='example.n3', format='n3')"
   ]
  },
  {
   "cell_type": "code",
   "execution_count": null,
   "metadata": {},
   "outputs": [],
   "source": []
  },
  {
   "cell_type": "code",
   "execution_count": null,
   "metadata": {},
   "outputs": [],
   "source": []
  },
  {
   "cell_type": "markdown",
   "metadata": {
    "deletable": false
   },
   "source": [
    "Versuchen Sie nun ein eigenes Beispiel zu konstruieren. Wählen Sie ein Thema, z.B. Bücher oder Personen, und schreiben Sie RDF in einer Syntax. Sie dürfen das RDF auch programmatisch schreiben indem Sie die `g.add()` Funktion benutzen. Konvertieren Sie dieses zu einer anderen Syntax. Lesen und schreiben Sie die jeweilige Serialisierung in Dateien. \n",
    "\n",
    "Bonus: Versuchen Sie mittels der Dokumentation http://rdflib.readthedocs.io/en/latest/apidocs/rdflib.html ein Triple zu löschen."
   ]
  },
  {
   "cell_type": "code",
   "execution_count": null,
   "metadata": {
    "deletable": false
   },
   "outputs": [],
   "source": []
  }
 ],
 "metadata": {
  "kernelspec": {
   "display_name": "Python 3",
   "language": "python",
   "name": "python3"
  },
  "language_info": {
   "codemirror_mode": {
    "name": "ipython",
    "version": 3
   },
   "file_extension": ".py",
   "mimetype": "text/x-python",
   "name": "python",
   "nbconvert_exporter": "python",
   "pygments_lexer": "ipython3",
   "version": "3.6.4"
  }
 },
 "nbformat": 4,
 "nbformat_minor": 2
}
